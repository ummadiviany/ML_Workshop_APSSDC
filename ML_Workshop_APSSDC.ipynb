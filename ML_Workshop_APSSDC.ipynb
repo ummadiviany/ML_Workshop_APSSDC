{
  "nbformat": 4,
  "nbformat_minor": 0,
  "metadata": {
    "colab": {
      "name": "ML_Workshop_APSSDC.ipynb",
      "provenance": [],
      "authorship_tag": "ABX9TyNTk6W+GYADiDl71obx+dMo",
      "include_colab_link": true
    },
    "kernelspec": {
      "name": "python3",
      "display_name": "Python 3"
    }
  },
  "cells": [
    {
      "cell_type": "markdown",
      "metadata": {
        "id": "view-in-github",
        "colab_type": "text"
      },
      "source": [
        "<a href=\"https://colab.research.google.com/github/ummadiviany/ML_Workshop_APSSDC/blob/master/ML_Workshop_APSSDC.ipynb\" target=\"_parent\"><img src=\"https://colab.research.google.com/assets/colab-badge.svg\" alt=\"Open In Colab\"/></a>"
      ]
    },
    {
      "cell_type": "markdown",
      "metadata": {
        "id": "1rZfVPcj51Zd",
        "colab_type": "text"
      },
      "source": [
        "1)Program for all such numbers which are divisible by 7 but are not multiples of 5? Consider a range of numbers from 1 to 50.\n"
      ]
    },
    {
      "cell_type": "code",
      "metadata": {
        "id": "U3vuE-ES53DV",
        "colab_type": "code",
        "colab": {
          "base_uri": "https://localhost:8080/",
          "height": 52
        },
        "outputId": "2f54b50d-fbcb-4372-c65c-63979942d937"
      },
      "source": [
        "result=[]\n",
        "for i in range(1,50):\n",
        "  if (i%7 ==0 and i%5!=0):\n",
        "    result.append(i)\n",
        "print(\"Numbers divisible by 7 and are not Multiples of 5 are:\")\n",
        "print(result)"
      ],
      "execution_count": 3,
      "outputs": [
        {
          "output_type": "stream",
          "text": [
            "Numbers divisible by 7 and are not Multiples of 5 are:\n",
            "[7, 14, 21, 28, 42, 49]\n"
          ],
          "name": "stdout"
        }
      ]
    },
    {
      "cell_type": "markdown",
      "metadata": {
        "id": "D46_BJ6k58A1",
        "colab_type": "text"
      },
      "source": [
        "2)Write a program to find factorial of a number in a recursive methodology."
      ]
    },
    {
      "cell_type": "code",
      "metadata": {
        "id": "qDMQmb4y58qN",
        "colab_type": "code",
        "colab": {
          "base_uri": "https://localhost:8080/",
          "height": 52
        },
        "outputId": "476c5fb3-c9cf-4eae-d9c7-c386c0e878b4"
      },
      "source": [
        "val=int(input(\"Enter a Number:\"))\n",
        "#val=5\n",
        "def factorial(x):\n",
        "  if x==1:\n",
        "    return x\n",
        "  else:\n",
        "    return x*factorial(x-1)\n",
        "\n",
        "if val==0:\n",
        "  print(\"Factorial of 0 is 1\")\n",
        "elif val<0:\n",
        "  print(\"Factorial doest not exist for -ve numbers\")  \n",
        "else:\n",
        "  print(\"Factorial of\" ,val ,\"is \" ,factorial(val))\n"
      ],
      "execution_count": 10,
      "outputs": [
        {
          "output_type": "stream",
          "text": [
            "Enter a Number:5\n",
            "Factorial of 5 is  120\n"
          ],
          "name": "stdout"
        }
      ]
    },
    {
      "cell_type": "code",
      "metadata": {
        "id": "OFlrV7e97qJ4",
        "colab_type": "code",
        "colab": {}
      },
      "source": [
        ""
      ],
      "execution_count": 0,
      "outputs": []
    }
  ]
}