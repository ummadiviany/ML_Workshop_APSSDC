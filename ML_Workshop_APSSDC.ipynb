{
  "nbformat": 4,
  "nbformat_minor": 0,
  "metadata": {
    "colab": {
      "name": "ML_Workshop_APSSDC.ipynb",
      "provenance": [],
      "toc_visible": true,
      "authorship_tag": "ABX9TyPfg8saAvhiF3LtQPpyYjcU",
      "include_colab_link": true
    },
    "kernelspec": {
      "name": "python3",
      "display_name": "Python 3"
    }
  },
  "cells": [
    {
      "cell_type": "markdown",
      "metadata": {
        "id": "view-in-github",
        "colab_type": "text"
      },
      "source": [
        "<a href=\"https://colab.research.google.com/github/ummadiviany/ML_Workshop_APSSDC/blob/master/ML_Workshop_APSSDC.ipynb\" target=\"_parent\"><img src=\"https://colab.research.google.com/assets/colab-badge.svg\" alt=\"Open In Colab\"/></a>"
      ]
    },
    {
      "cell_type": "markdown",
      "metadata": {
        "id": "1rZfVPcj51Zd",
        "colab_type": "text"
      },
      "source": [
        "1)Program for all such numbers which are divisible by 7 but are not multiples of 5? Consider a range of numbers from 1 to 50.\n"
      ]
    },
    {
      "cell_type": "code",
      "metadata": {
        "id": "U3vuE-ES53DV",
        "colab_type": "code",
        "outputId": "2f54b50d-fbcb-4372-c65c-63979942d937",
        "colab": {
          "base_uri": "https://localhost:8080/",
          "height": 52
        }
      },
      "source": [
        "result=[]\n",
        "for i in range(1,50):\n",
        "  if (i%7 ==0 and i%5!=0):\n",
        "    result.append(i)\n",
        "print(\"Numbers divisible by 7 and are not Multiples of 5 are:\")\n",
        "print(result)"
      ],
      "execution_count": 0,
      "outputs": [
        {
          "output_type": "stream",
          "text": [
            "Numbers divisible by 7 and are not Multiples of 5 are:\n",
            "[7, 14, 21, 28, 42, 49]\n"
          ],
          "name": "stdout"
        }
      ]
    },
    {
      "cell_type": "markdown",
      "metadata": {
        "id": "D46_BJ6k58A1",
        "colab_type": "text"
      },
      "source": [
        "2)Write a program to find factorial of a number in a recursive methodology."
      ]
    },
    {
      "cell_type": "code",
      "metadata": {
        "id": "qDMQmb4y58qN",
        "colab_type": "code",
        "outputId": "476c5fb3-c9cf-4eae-d9c7-c386c0e878b4",
        "colab": {
          "base_uri": "https://localhost:8080/",
          "height": 52
        }
      },
      "source": [
        "val=int(input(\"Enter a Number:\"))\n",
        "#val=5\n",
        "def factorial(x):\n",
        "  if x==1:\n",
        "    return x\n",
        "  else:\n",
        "    return x*factorial(x-1)\n",
        "\n",
        "if val==0:\n",
        "  print(\"Factorial of 0 is 1\")\n",
        "elif val<0:\n",
        "  print(\"Factorial doest not exist for -ve numbers\")  \n",
        "else:\n",
        "  print(\"Factorial of\" ,val ,\"is \" ,factorial(val))\n"
      ],
      "execution_count": 0,
      "outputs": [
        {
          "output_type": "stream",
          "text": [
            "Enter a Number:5\n",
            "Factorial of 5 is  120\n"
          ],
          "name": "stdout"
        }
      ]
    },
    {
      "cell_type": "markdown",
      "metadata": {
        "id": "n6GU-1-R__21",
        "colab_type": "text"
      },
      "source": [
        "3)Write a program to create a dict with the values of squares from 1 to given number n."
      ]
    },
    {
      "cell_type": "code",
      "metadata": {
        "id": "d6cF-x71AkUi",
        "colab_type": "code",
        "outputId": "73cc19e5-6c0a-4095-a3aa-0aebc1e37b3f",
        "colab": {
          "base_uri": "https://localhost:8080/",
          "height": 52
        }
      },
      "source": [
        "val=int(input(\"Enter a number:\"))\n",
        "mydict={i:i*i for i in range(val)}\n",
        "print(\"Created dictionary is\",mydict)"
      ],
      "execution_count": 0,
      "outputs": [
        {
          "output_type": "stream",
          "text": [
            "Enter a number:5\n",
            "Created dictionary is {0: 0, 1: 1, 2: 4, 3: 9, 4: 16}\n"
          ],
          "name": "stdout"
        }
      ]
    },
    {
      "cell_type": "markdown",
      "metadata": {
        "id": "3ljFUG5lBMFY",
        "colab_type": "text"
      },
      "source": [
        "4)Write a program to implement the program ,take multiple inputs and outputs.\n",
        " **Q=sqrt((2*C*D)/H)**\n",
        "C=50,H=30\n",
        " *D is comma seperated values 100,150,180\n",
        "Output 18,22,24*"
      ]
    },
    {
      "cell_type": "code",
      "metadata": {
        "id": "8O-TrKbmkXoX",
        "colab_type": "code",
        "colab": {
          "base_uri": "https://localhost:8080/",
          "height": 52
        },
        "outputId": "c4d0999e-5a42-4ebd-9f01-879784325432"
      },
      "source": [
        "import math\n",
        "C=50\n",
        "H=30\n",
        "D= list(map(int, input(\"Enter multiple values:\").split(','))) \n",
        "Q=[]\n",
        "for i in D:\n",
        "  Q.append(int(math.sqrt((2*C*i)/H)))\n",
        "print(\"The solutions of Q are\",Q)"
      ],
      "execution_count": 26,
      "outputs": [
        {
          "output_type": "stream",
          "text": [
            "Enter multiple values:100,150,180\n",
            "The solutions of Q are [18, 22, 24]\n"
          ],
          "name": "stdout"
        }
      ]
    },
    {
      "cell_type": "markdown",
      "metadata": {
        "id": "JVIbLPzGnL1C",
        "colab_type": "text"
      },
      "source": [
        "5)Write a program to find the Area of Circle with different radius.\n",
        "*   Use the formula  **pi* r * r**\n",
        "*   Radius r=5,10,15\n",
        "\n"
      ]
    },
    {
      "cell_type": "code",
      "metadata": {
        "id": "Uz-erkNNpxda",
        "colab_type": "code",
        "colab": {}
      },
      "source": [
        ""
      ],
      "execution_count": 0,
      "outputs": []
    },
    {
      "cell_type": "markdown",
      "metadata": {
        "id": "H25yl0YIqgDn",
        "colab_type": "text"
      },
      "source": [
        "6)Write a program\n",
        "\n",
        "*   Takes two digits as inputs **Ex:3,5**\n",
        "*   The element in the ith row and jth column should be **i*j**\n",
        "*   i=0,1,...X-1    and j=0,1,....Y-1\n",
        "*   *Output :[[0,0,0,0,0],[0,1,2,3,4],[0,2,4,6,8]]*\n",
        "\n",
        "\n",
        "\n"
      ]
    },
    {
      "cell_type": "code",
      "metadata": {
        "id": "cGvLaK22rnuu",
        "colab_type": "code",
        "colab": {
          "base_uri": "https://localhost:8080/",
          "height": 69
        },
        "outputId": "5c720b8e-16c7-4015-ae3e-de46d5e6d2e5"
      },
      "source": [
        "X,Y = input(\"Enter No of Rows and Columns : \").split(',')\n",
        "X=int(X)\n",
        "Y=int(Y)\n",
        "result= [[0 for i in range(Y)] for j in range(X)] \n",
        "print(\"The matrix with all zeros\",result)\n",
        "for i in range(X):\n",
        "  for j in range(Y):\n",
        "    result[i][j]=i*j\n",
        "print(\"Output :                 \",result)"
      ],
      "execution_count": 44,
      "outputs": [
        {
          "output_type": "stream",
          "text": [
            "Enter No of Rows and Columns : 3,5\n",
            "The matrix with all zeros [[0, 0, 0, 0, 0], [0, 0, 0, 0, 0], [0, 0, 0, 0, 0]]\n",
            "Output :                  [[0, 0, 0, 0, 0], [0, 1, 2, 3, 4], [0, 2, 4, 6, 8]]\n"
          ],
          "name": "stdout"
        }
      ]
    },
    {
      "cell_type": "markdown",
      "metadata": {
        "id": "WB1pC8_qtXYr",
        "colab_type": "text"
      },
      "source": [
        "7)Write a program to "
      ]
    },
    {
      "cell_type": "code",
      "metadata": {
        "id": "42KlOCaSuUTo",
        "colab_type": "code",
        "colab": {}
      },
      "source": [
        ""
      ],
      "execution_count": 0,
      "outputs": []
    }
  ]
}