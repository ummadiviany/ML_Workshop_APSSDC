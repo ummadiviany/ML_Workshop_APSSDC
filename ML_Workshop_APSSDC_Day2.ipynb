{
  "nbformat": 4,
  "nbformat_minor": 0,
  "metadata": {
    "colab": {
      "name": "ML_Workshop_APSSDC_Day2.ipynb",
      "provenance": [],
      "authorship_tag": "ABX9TyPhgpEUcFgsXr7eB9BTzGNw",
      "include_colab_link": true
    },
    "kernelspec": {
      "name": "python3",
      "display_name": "Python 3"
    }
  },
  "cells": [
    {
      "cell_type": "markdown",
      "metadata": {
        "id": "view-in-github",
        "colab_type": "text"
      },
      "source": [
        "<a href=\"https://colab.research.google.com/github/ummadiviany/ML_Workshop_APSSDC/blob/master/ML_Workshop_APSSDC_Day2.ipynb\" target=\"_parent\"><img src=\"https://colab.research.google.com/assets/colab-badge.svg\" alt=\"Open In Colab\"/></a>"
      ]
    },
    {
      "cell_type": "markdown",
      "metadata": {
        "id": "gHf3kaoRdP_B",
        "colab_type": "text"
      },
      "source": [
        "# **Tuples**"
      ]
    },
    {
      "cell_type": "markdown",
      "metadata": {
        "id": "_wCf7rKAhaZb",
        "colab_type": "text"
      },
      "source": [
        "### 1)Convert List to Tuples"
      ]
    },
    {
      "cell_type": "code",
      "metadata": {
        "id": "VBkurKvDhqO1",
        "colab_type": "code",
        "colab": {
          "base_uri": "https://localhost:8080/",
          "height": 69
        },
        "outputId": "3f1d2040-53c3-44ec-8d1f-4a9dd7ee4642"
      },
      "source": [
        "values=list(map(int, input(\"Enter multiple values:\").split(',')))\n",
        "print(\"Output as a List  : \",values)\n",
        "print(\"Output as a Tuples:\",tuple(values)) # tuple() function directly converts the list to tuple"
      ],
      "execution_count": 1,
      "outputs": [
        {
          "output_type": "stream",
          "text": [
            "Enter multiple values:1,2,3,4\n",
            "Output as a List  :  [1, 2, 3, 4]\n",
            "Output as a Tuples: (1, 2, 3, 4)\n"
          ],
          "name": "stdout"
        }
      ]
    },
    {
      "cell_type": "markdown",
      "metadata": {
        "id": "QULLYMmdiXcy",
        "colab_type": "text"
      },
      "source": [
        "### 2)Use List comprehension to create a List.\n",
        "\n",
        "*   Input : Sequence of numbers seperated by comma\n",
        "*   Output: Squares of odd numbers\n",
        "\n"
      ]
    },
    {
      "cell_type": "code",
      "metadata": {
        "id": "Da1zH74HjY0_",
        "colab_type": "code",
        "colab": {
          "base_uri": "https://localhost:8080/",
          "height": 52
        },
        "outputId": "f02f2778-b4bf-49db-a439-3cd91f079691"
      },
      "source": [
        "values=list(map(int, input(\"Enter multiple values:\").split(',')))\n",
        "oddsq=[x*x for x in values if (x%2 !=0) ] #Use list compresion to create a new list\n",
        "print(\"Square of Odd numbers:\",oddsq)"
      ],
      "execution_count": 2,
      "outputs": [
        {
          "output_type": "stream",
          "text": [
            "Enter multiple values:1,2,3,4,5,6,7,8\n",
            "Square of Odd numbers: [1, 9, 25, 49]\n"
          ],
          "name": "stdout"
        }
      ]
    },
    {
      "cell_type": "markdown",
      "metadata": {
        "id": "2H8xjv4bkF2A",
        "colab_type": "text"
      },
      "source": [
        "### 3)Write a program to take the Integer as a Input and to make an Operation(take input as 'a') to perform a+aa+aaa+aaaa."
      ]
    },
    {
      "cell_type": "code",
      "metadata": {
        "id": "Va0vMuCglZII",
        "colab_type": "code",
        "colab": {
          "base_uri": "https://localhost:8080/",
          "height": 69
        },
        "outputId": "e398ede3-4f6d-4d5b-f2b7-36a593034ba5"
      },
      "source": [
        "val=input(\"Enter a Number:\")\n",
        "numlist=[int(val*i) for i in range(1,5)]\n",
        "print(\"The created list is:\",numlist)\n",
        "print(\"The sum of list is:\",sum(numlist))"
      ],
      "execution_count": 7,
      "outputs": [
        {
          "output_type": "stream",
          "text": [
            "Enter a Number:5\n",
            "The created list is: [5, 55, 555, 5555]\n",
            "The sum of list is: 6170\n"
          ],
          "name": "stdout"
        }
      ]
    },
    {
      "cell_type": "code",
      "metadata": {
        "id": "RrkvK9I3l4sE",
        "colab_type": "code",
        "colab": {}
      },
      "source": [
        ""
      ],
      "execution_count": 0,
      "outputs": []
    }
  ]
}