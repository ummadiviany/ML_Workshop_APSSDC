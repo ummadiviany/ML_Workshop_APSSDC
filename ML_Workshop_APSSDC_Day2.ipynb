{
  "nbformat": 4,
  "nbformat_minor": 0,
  "metadata": {
    "colab": {
      "name": "ML_Workshop_APSSDC_Day2.ipynb",
      "provenance": [],
      "authorship_tag": "ABX9TyMr7GG5r9A1KvTqJBeMSaSH",
      "include_colab_link": true
    },
    "kernelspec": {
      "name": "python3",
      "display_name": "Python 3"
    }
  },
  "cells": [
    {
      "cell_type": "markdown",
      "metadata": {
        "id": "view-in-github",
        "colab_type": "text"
      },
      "source": [
        "<a href=\"https://colab.research.google.com/github/ummadiviany/ML_Workshop_APSSDC/blob/master/ML_Workshop_APSSDC_Day2.ipynb\" target=\"_parent\"><img src=\"https://colab.research.google.com/assets/colab-badge.svg\" alt=\"Open In Colab\"/></a>"
      ]
    },
    {
      "cell_type": "markdown",
      "metadata": {
        "id": "gHf3kaoRdP_B",
        "colab_type": "text"
      },
      "source": [
        "# **Tuples in Python**"
      ]
    },
    {
      "cell_type": "markdown",
      "metadata": {
        "id": "_wCf7rKAhaZb",
        "colab_type": "text"
      },
      "source": [
        "### 1)Convert List to Tuples"
      ]
    },
    {
      "cell_type": "code",
      "metadata": {
        "id": "VBkurKvDhqO1",
        "colab_type": "code",
        "colab": {
          "base_uri": "https://localhost:8080/",
          "height": 69
        },
        "outputId": "3f1d2040-53c3-44ec-8d1f-4a9dd7ee4642"
      },
      "source": [
        "values=list(map(int, input(\"Enter multiple values:\").split(',')))\n",
        "print(\"Output as a List  : \",values)\n",
        "print(\"Output as a Tuples:\",tuple(values)) # tuple() function directly converts the list to tuple"
      ],
      "execution_count": 1,
      "outputs": [
        {
          "output_type": "stream",
          "text": [
            "Enter multiple values:1,2,3,4\n",
            "Output as a List  :  [1, 2, 3, 4]\n",
            "Output as a Tuples: (1, 2, 3, 4)\n"
          ],
          "name": "stdout"
        }
      ]
    },
    {
      "cell_type": "markdown",
      "metadata": {
        "id": "QULLYMmdiXcy",
        "colab_type": "text"
      },
      "source": [
        "### 2)Use List comprehension to create a List.\n",
        "\n",
        "*   Input : Sequence of numbers seperated by comma\n",
        "*   Output: Squares of odd numbers\n",
        "\n"
      ]
    },
    {
      "cell_type": "code",
      "metadata": {
        "id": "Da1zH74HjY0_",
        "colab_type": "code",
        "colab": {
          "base_uri": "https://localhost:8080/",
          "height": 52
        },
        "outputId": "f02f2778-b4bf-49db-a439-3cd91f079691"
      },
      "source": [
        "values=list(map(int, input(\"Enter multiple values:\").split(',')))\n",
        "oddsq=[x*x for x in values if (x%2 !=0) ] #Use list compresion to create a new list\n",
        "print(\"Square of Odd numbers:\",oddsq)"
      ],
      "execution_count": 2,
      "outputs": [
        {
          "output_type": "stream",
          "text": [
            "Enter multiple values:1,2,3,4,5,6,7,8\n",
            "Square of Odd numbers: [1, 9, 25, 49]\n"
          ],
          "name": "stdout"
        }
      ]
    },
    {
      "cell_type": "markdown",
      "metadata": {
        "id": "2H8xjv4bkF2A",
        "colab_type": "text"
      },
      "source": [
        "### 3)Write a program to take the Integer as a Input and to make an Operation(take input as 'a') to perform a+aa+aaa+aaaa."
      ]
    },
    {
      "cell_type": "code",
      "metadata": {
        "id": "Va0vMuCglZII",
        "colab_type": "code",
        "colab": {
          "base_uri": "https://localhost:8080/",
          "height": 69
        },
        "outputId": "e398ede3-4f6d-4d5b-f2b7-36a593034ba5"
      },
      "source": [
        "val=input(\"Enter a Number:\")\n",
        "numlist=[int(val*i) for i in range(1,5)]\n",
        "print(\"The created list is:\",numlist)\n",
        "print(\"The sum of list is:\",sum(numlist))"
      ],
      "execution_count": 7,
      "outputs": [
        {
          "output_type": "stream",
          "text": [
            "Enter a Number:5\n",
            "The created list is: [5, 55, 555, 5555]\n",
            "The sum of list is: 6170\n"
          ],
          "name": "stdout"
        }
      ]
    },
    {
      "cell_type": "markdown",
      "metadata": {
        "id": "RrkvK9I3l4sE",
        "colab_type": "text"
      },
      "source": [
        "### 4)Create a Odd numbered tuple using tuple comprehensions.\n",
        "\n",
        "\n",
        "*   Input  : (1,10) =1,2,3,4,5,6,7,8,9,10\n",
        "*   Output : (1,3,5,7,9)\n",
        "\n"
      ]
    },
    {
      "cell_type": "code",
      "metadata": {
        "id": "bRWf0byOpYZW",
        "colab_type": "code",
        "colab": {
          "base_uri": "https://localhost:8080/",
          "height": 52
        },
        "outputId": "c6d3fc00-6b66-45f9-f0f6-84a1eb7adb46"
      },
      "source": [
        "(val1),(val2) = input(\"Enter Min Range and Max Range : \").split(',')\n",
        "val1=int(val1)\n",
        "val2=int(val2)\n",
        "tup1=tuple(x for x in range(val1,val2+1) if (x%2 != 0))\n",
        "print(\"The odd numbered tuple is: \",tup1)\n"
      ],
      "execution_count": 11,
      "outputs": [
        {
          "output_type": "stream",
          "text": [
            "Enter Min Range and Max Range : 1,10\n",
            "The odd numbered tuple is:  (1, 3, 5, 7, 9)\n"
          ],
          "name": "stdout"
        }
      ]
    },
    {
      "cell_type": "markdown",
      "metadata": {
        "id": "WWs1fBtapo2f",
        "colab_type": "text"
      },
      "source": [
        "### 5) Wite a program to sort the (name,age,score) tuples by ascending order. Where name is string,age and score are integers.The tuples are input by console.The sort priority criteria is name>age>score\n",
        "*   Input  : Tom,19,80\n",
        "              John,20,90\n",
        "              Jony,17,91\n",
        "              Jony,17,93\n",
        "              Json,21,85\n",
        "*   Output : "
      ]
    },
    {
      "cell_type": "code",
      "metadata": {
        "id": "W3eB4qPvsFaw",
        "colab_type": "code",
        "colab": {
          "base_uri": "https://localhost:8080/",
          "height": 121
        },
        "outputId": "4c87544f-ea05-4c99-ddff-8e0e3dba4d9e"
      },
      "source": [
        "n=int(input(\"Enter number of rows:\"))\n",
        "lst= [input(\"Enter each row:\").split(\",\") for i in range(0, n)]\n",
        "print(\"The given data is : \",lst)\n",
        "lst.sort(key= lambda x:(x[0],x[1],x[2]))\n",
        "print(\"The sorted data is: \",lst)"
      ],
      "execution_count": 15,
      "outputs": [
        {
          "output_type": "stream",
          "text": [
            "Enter number of rows:3\n",
            "Enter each row:Tom,19,80\n",
            "Enter each row:John,20,90\n",
            "Enter each row:Jony,17,91\n",
            "The given data is :  [['Tom', '19', '80'], ['John', '20', '90'], ['Jony', '17', '91']]\n",
            "The sorted data is:  [['John', '20', '90'], ['Jony', '17', '91'], ['Tom', '19', '80']]\n"
          ],
          "name": "stdout"
        }
      ]
    },
    {
      "cell_type": "markdown",
      "metadata": {
        "id": "yWkQpllDuVtG",
        "colab_type": "text"
      },
      "source": [
        "# **Dictionaries in Python**"
      ]
    },
    {
      "cell_type": "markdown",
      "metadata": {
        "id": "vT5wPCvH0mEQ",
        "colab_type": "text"
      },
      "source": [
        "### 6)Creating a dict with integer and mixed keys"
      ]
    },
    {
      "cell_type": "markdown",
      "metadata": {
        "id": "mv0O7dpN04WB",
        "colab_type": "text"
      },
      "source": [
        "With Integer Keys"
      ]
    },
    {
      "cell_type": "code",
      "metadata": {
        "id": "5pxBKg7s0-Ql",
        "colab_type": "code",
        "colab": {
          "base_uri": "https://localhost:8080/",
          "height": 34
        },
        "outputId": "a8484fcb-e96f-4015-e48b-547212d5f566"
      },
      "source": [
        "Dict={1:'cpu',2:'monitor',3:'mouse'}\n",
        "print(\"The created dictionary is :\",Dict)"
      ],
      "execution_count": 16,
      "outputs": [
        {
          "output_type": "stream",
          "text": [
            "The created dictionary is : {1: 'cpu', 2: 'monitor', 3: 'mouse'}\n"
          ],
          "name": "stdout"
        }
      ]
    },
    {
      "cell_type": "markdown",
      "metadata": {
        "id": "jncRRGNb1RDJ",
        "colab_type": "text"
      },
      "source": [
        "With Mixed Keys"
      ]
    },
    {
      "cell_type": "code",
      "metadata": {
        "id": "egn2dnQa1VCg",
        "colab_type": "code",
        "colab": {
          "base_uri": "https://localhost:8080/",
          "height": 34
        },
        "outputId": "997e62a6-c428-4bb9-8f1b-f450e6888eda"
      },
      "source": [
        "Dict={'component1':'cpu','component2':'monitor','component3':'mouse'}\n",
        "print(\"The created dictionary is :\",Dict)"
      ],
      "execution_count": 17,
      "outputs": [
        {
          "output_type": "stream",
          "text": [
            "The created dictionary is : {'component1': 'cpu', 'component2': 'monitor', 'component3': 'mouse'}\n"
          ],
          "name": "stdout"
        }
      ]
    },
    {
      "cell_type": "markdown",
      "metadata": {
        "id": "qXboVXHQ1o1D",
        "colab_type": "text"
      },
      "source": [
        "Creating a dictionary with **dict()** method"
      ]
    },
    {
      "cell_type": "code",
      "metadata": {
        "id": "Ew7LidzA14vr",
        "colab_type": "code",
        "colab": {
          "base_uri": "https://localhost:8080/",
          "height": 34
        },
        "outputId": "a891dfbb-9c6f-435e-84b4-8c14cfa0fbb5"
      },
      "source": [
        "Dict=dict({1:'cpu',2:'monitor',3:'mouse'})\n",
        "print(\"The created dictionary is :\",Dict)"
      ],
      "execution_count": 18,
      "outputs": [
        {
          "output_type": "stream",
          "text": [
            "The created dictionary is : {1: 'cpu', 2: 'monitor', 3: 'mouse'}\n"
          ],
          "name": "stdout"
        }
      ]
    },
    {
      "cell_type": "markdown",
      "metadata": {
        "id": "XD58LKIG2DfX",
        "colab_type": "text"
      },
      "source": [
        "Creating a dictionary with **Each item as pair**"
      ]
    },
    {
      "cell_type": "code",
      "metadata": {
        "id": "zKAwKU6t2US5",
        "colab_type": "code",
        "colab": {
          "base_uri": "https://localhost:8080/",
          "height": 34
        },
        "outputId": "fc8cf276-d992-493c-d79d-091eb03fc3dd"
      },
      "source": [
        "Dict=dict([(1,'cpu'),(2,'monitor'),(3,'mouse')])\n",
        "print(\"The created dictionary is :\",Dict)"
      ],
      "execution_count": 23,
      "outputs": [
        {
          "output_type": "stream",
          "text": [
            "The created dictionary is : {1: 'cpu', 2: 'monitor', 3: 'mouse'}\n"
          ],
          "name": "stdout"
        }
      ]
    },
    {
      "cell_type": "markdown",
      "metadata": {
        "id": "TO5KN2eh2csc",
        "colab_type": "text"
      },
      "source": [
        "### 7)Acessing elements in Dictionary"
      ]
    },
    {
      "cell_type": "code",
      "metadata": {
        "id": "NLZzWwwZ8CJd",
        "colab_type": "code",
        "colab": {
          "base_uri": "https://localhost:8080/",
          "height": 69
        },
        "outputId": "651fad87-117e-45ac-d0d1-851cd597520e"
      },
      "source": [
        "print(\"The element with key 1 in Dict is:\",Dict[1])\n",
        "print(\"The element with key 2 in Dict is:\",Dict[2])\n",
        "print(\"The element with key 3 in Dict is:\",Dict[3])"
      ],
      "execution_count": 26,
      "outputs": [
        {
          "output_type": "stream",
          "text": [
            "The element with key 1 in Dict is: cpu\n",
            "The element with key 2 in Dict is: monitor\n",
            "The element with key 3 in Dict is: mouse\n"
          ],
          "name": "stdout"
        }
      ]
    },
    {
      "cell_type": "code",
      "metadata": {
        "id": "CoiSopIB85pk",
        "colab_type": "code",
        "colab": {
          "base_uri": "https://localhost:8080/",
          "height": 86
        },
        "outputId": "4058e74e-7074-4668-ab63-876894a2c42e"
      },
      "source": [
        "print (\"The element with key 1 in Dict are : \") \n",
        "for i in Dict: \n",
        "    print(i, Dict[i])"
      ],
      "execution_count": 30,
      "outputs": [
        {
          "output_type": "stream",
          "text": [
            "The element with key 1 in Dict are : \n",
            "1 cpu\n",
            "2 monitor\n",
            "3 mouse\n"
          ],
          "name": "stdout"
        }
      ]
    },
    {
      "cell_type": "markdown",
      "metadata": {
        "id": "loVRjqBa971I",
        "colab_type": "text"
      },
      "source": [
        "### 8)Creating a nested dictionary"
      ]
    },
    {
      "cell_type": "code",
      "metadata": {
        "id": "6fKxhehK-IF-",
        "colab_type": "code",
        "colab": {
          "base_uri": "https://localhost:8080/",
          "height": 34
        },
        "outputId": "85700707-bb7e-454a-98c2-0845e8b66288"
      },
      "source": [
        "DictNest={1:'monitor',2:'keyboard',3:'mouse',4:{'os1':'ubuntu','os2':'windows'}}\n",
        "print(\"The created nested dictionary is :\",DictNest)"
      ],
      "execution_count": 31,
      "outputs": [
        {
          "output_type": "stream",
          "text": [
            "The created nested dictionary is : {1: 'monitor', 2: 'keyboard', 3: 'mouse', 4: {'os1': 'ubuntu', 'os2': 'windows'}}\n"
          ],
          "name": "stdout"
        }
      ]
    },
    {
      "cell_type": "code",
      "metadata": {
        "id": "5vYYnTge-xfz",
        "colab_type": "code",
        "colab": {
          "base_uri": "https://localhost:8080/",
          "height": 34
        },
        "outputId": "2bbb8603-c93f-484b-9469-8e87ac963061"
      },
      "source": [
        "DictNest=dict([(1,'monitor'),(2,'keyboard'),(3,'mouse'),(4,dict([('os1','ubuntu'),('os2','windows')]))])\n",
        "print(\"The created nested dictionary is :\",DictNest)"
      ],
      "execution_count": 39,
      "outputs": [
        {
          "output_type": "stream",
          "text": [
            "The created nested dictionary is : {1: 'monitor', 2: 'keyboard', 3: 'mouse', 4: {'os1': 'ubuntu', 'os2': 'windows'}}\n"
          ],
          "name": "stdout"
        }
      ]
    },
    {
      "cell_type": "markdown",
      "metadata": {
        "id": "qpYWvmwHBWFk",
        "colab_type": "text"
      },
      "source": [
        "### 9)Updating Dictionaries"
      ]
    },
    {
      "cell_type": "code",
      "metadata": {
        "id": "fMYDbXfXBdD_",
        "colab_type": "code",
        "colab": {
          "base_uri": "https://localhost:8080/",
          "height": 34
        },
        "outputId": "94b41060-8b82-4abc-89d7-653619f12135"
      },
      "source": [
        "Dict={}\n",
        "print(\"Empty dictionary\",Dict)\n"
      ],
      "execution_count": 50,
      "outputs": [
        {
          "output_type": "stream",
          "text": [
            "Empty dictionary {}\n"
          ],
          "name": "stdout"
        }
      ]
    },
    {
      "cell_type": "code",
      "metadata": {
        "id": "WEdrqpQwDY7-",
        "colab_type": "code",
        "colab": {
          "base_uri": "https://localhost:8080/",
          "height": 34
        },
        "outputId": "ab3d1177-9721-4797-c993-060efaa69f00"
      },
      "source": [
        "Dict[0]='python'\n",
        "Dict[1]='c'\n",
        "Dict[2]='tf'\n",
        "print(\"Dictionary with added elements\",Dict)"
      ],
      "execution_count": 51,
      "outputs": [
        {
          "output_type": "stream",
          "text": [
            "Dictionary with added elements {0: 'python', 1: 'c', 2: 'tf'}\n"
          ],
          "name": "stdout"
        }
      ]
    },
    {
      "cell_type": "code",
      "metadata": {
        "id": "5NWDBQBCBvXi",
        "colab_type": "code",
        "colab": {
          "base_uri": "https://localhost:8080/",
          "height": 34
        },
        "outputId": "604f8dd6-c7d8-4042-9b78-00d5f32b48b1"
      },
      "source": [
        "Dict[4]=1,2,3\n",
        "print(\"Dictionary after adding 3  elements\",Dict)\n"
      ],
      "execution_count": 52,
      "outputs": [
        {
          "output_type": "stream",
          "text": [
            "Dictionary after adding 3  elements {0: 'python', 1: 'c', 2: 'tf', 4: (1, 2, 3)}\n"
          ],
          "name": "stdout"
        }
      ]
    },
    {
      "cell_type": "code",
      "metadata": {
        "id": "7gnSNVgRCeFy",
        "colab_type": "code",
        "colab": {
          "base_uri": "https://localhost:8080/",
          "height": 34
        },
        "outputId": "1cf813b5-d9f7-41d6-f304-4db2e1dd029d"
      },
      "source": [
        "Dict[0]='cython'\n",
        "print(\"Dictionary with updating 0th element,replacing python with cython\",Dict)"
      ],
      "execution_count": 53,
      "outputs": [
        {
          "output_type": "stream",
          "text": [
            "Dictionary with updating 0th element,replacing python with cython {0: 'cython', 1: 'c', 2: 'tf', 4: (1, 2, 3)}\n"
          ],
          "name": "stdout"
        }
      ]
    },
    {
      "cell_type": "code",
      "metadata": {
        "id": "abKjTPsqDvqq",
        "colab_type": "code",
        "colab": {
          "base_uri": "https://localhost:8080/",
          "height": 34
        },
        "outputId": "dba209e2-c1e8-47c9-8b8d-bcbb6ce1b3ce"
      },
      "source": [
        "Dict[0]={'languages':{1:'python',2:'cython'}}\n",
        "print(\"Dictionary after updating 0th element with nested dict\",Dict)\n"
      ],
      "execution_count": 54,
      "outputs": [
        {
          "output_type": "stream",
          "text": [
            "Dictionary after updating 0th element with nested dict {0: {'languages': {1: 'python', 2: 'cython'}}, 1: 'c', 2: 'tf', 4: (1, 2, 3)}\n"
          ],
          "name": "stdout"
        }
      ]
    },
    {
      "cell_type": "code",
      "metadata": {
        "id": "C-eGYA1xEbxC",
        "colab_type": "code",
        "colab": {
          "base_uri": "https://localhost:8080/",
          "height": 34
        },
        "outputId": "75a0f30a-580c-48f4-bbb0-4b2f69ab90fb"
      },
      "source": [
        "del Dict[4]\n",
        "print(\"Dictionary after deleting 4th element\",Dict)"
      ],
      "execution_count": 55,
      "outputs": [
        {
          "output_type": "stream",
          "text": [
            "Dictionary after deleting 4th element {0: {'languages': {1: 'python', 2: 'cython'}}, 1: 'c', 2: 'tf'}\n"
          ],
          "name": "stdout"
        }
      ]
    },
    {
      "cell_type": "code",
      "metadata": {
        "id": "cBA-oFD9E3gl",
        "colab_type": "code",
        "colab": {
          "base_uri": "https://localhost:8080/",
          "height": 34
        },
        "outputId": "07522fa3-64fd-4175-a6f6-8ab98872763d"
      },
      "source": [
        "del Dict[0]['languages'][2]\n",
        "print(\"Dictionary after deleting 0th and 2nd element\",Dict)"
      ],
      "execution_count": 58,
      "outputs": [
        {
          "output_type": "stream",
          "text": [
            "Dictionary after deleting 0th and 2nd element {0: {'languages': {1: 'python'}}, 1: 'c', 2: 'tf'}\n"
          ],
          "name": "stdout"
        }
      ]
    },
    {
      "cell_type": "code",
      "metadata": {
        "id": "D54LCMteFYGb",
        "colab_type": "code",
        "colab": {
          "base_uri": "https://localhost:8080/",
          "height": 34
        },
        "outputId": "39255730-3d36-4b0c-f5b3-e5da4639745b"
      },
      "source": [
        "Dict.pop(1)\n",
        "print(\"Dictionary after popping element with key 1\",Dict)"
      ],
      "execution_count": 59,
      "outputs": [
        {
          "output_type": "stream",
          "text": [
            "Dictionary after popping element with key 1 {0: {'languages': {1: 'python'}}, 2: 'tf'}\n"
          ],
          "name": "stdout"
        }
      ]
    },
    {
      "cell_type": "code",
      "metadata": {
        "id": "LBAy_8yuGSG7",
        "colab_type": "code",
        "colab": {
          "base_uri": "https://localhost:8080/",
          "height": 52
        },
        "outputId": "384fa133-df2e-4369-b2bf-c82a4bfe7977"
      },
      "source": [
        "popped=Dict.popitem()\n",
        "print(\"The popped element is :\",popped)\n",
        "print(\"Dictionary after popping an arbitary element :\",Dict)"
      ],
      "execution_count": 60,
      "outputs": [
        {
          "output_type": "stream",
          "text": [
            "The popped element is : (2, 'tf')\n",
            "Dictionary after popping an arbitary element : {0: {'languages': {1: 'python'}}}\n"
          ],
          "name": "stdout"
        }
      ]
    },
    {
      "cell_type": "markdown",
      "metadata": {
        "id": "MJlbUTdNHSrx",
        "colab_type": "text"
      },
      "source": [
        "### Dictionary Methods\n",
        "Methods \tDescription\n",
        "\n",
        "\n",
        "---\n",
        "\n",
        "\n",
        "copy() \tThey copy() method returns a shallow copy of the dictionary.\n",
        "\n",
        "\n",
        "---\n",
        "\n",
        "\n",
        "clear() \tThe clear() method removes all items from the dictionary.\n",
        "\n",
        "\n",
        "---\n",
        "\n",
        "\n",
        "pop() \tRemoves and returns an element from a dictionary having the given key.\n",
        "\n",
        "\n",
        "---\n",
        "\n",
        "\n",
        "popitem() \tRemoves the arbitrary key-value pair from the dictionary and \n",
        "returns it as tuple.\n",
        "\n",
        "---\n",
        "\n",
        "\n",
        "get() \tIt is a conventional method to access a value for a key.\n",
        "\n",
        "\n",
        "---\n",
        "\n",
        "\n",
        "dictionary_name.values() \treturns a list of all the values available in a given dictionary.\n",
        "\n",
        "\n",
        "---\n",
        "\n",
        "\n",
        "str() \tProduces a printable string representation of a dictionary.\n",
        "\n",
        "\n",
        "---\n",
        "\n",
        "\n",
        "update() \tAdds dictionary dict2’s key-values pairs to dict\n",
        "\n",
        "\n",
        "---\n",
        "\n",
        "setdefault() \tSet dict[key]=default if key is not already in dict\n",
        "\n",
        "\n",
        "---\n",
        "\n",
        "keys() \tReturns list of dictionary dict’s keys\n",
        "\n",
        "\n",
        "---\n",
        "\n",
        "items() \tReturns a list of dict’s (key, value) tuple pairs\n",
        "\n",
        "\n",
        "---\n",
        "\n",
        "has_key() \tReturns true if key in dictionary dict, false otherwise\n",
        "\n",
        "\n",
        "---\n",
        "\n",
        "fromkeys() \tCreate a new dictionary with keys from seq and values set to value.\n",
        "\n",
        "\n",
        "---\n",
        "\n",
        "type() \tReturns the type of the passed variable.\n",
        "\n",
        "\n",
        "---\n",
        "\n",
        "cmp() \tCompares elements of both dict.\n",
        "\n",
        "\n",
        "---\n",
        "\n"
      ]
    },
    {
      "cell_type": "markdown",
      "metadata": {
        "id": "HPCkt-QDJXaw",
        "colab_type": "text"
      },
      "source": [
        "### **Assignment**\n",
        "Write a program to take inputs as withdraw and deposit and give the current balance as output.\n",
        "\n",
        "Input: D 200\n",
        "       D 200\n",
        "       W 200\n",
        "       D 100\n",
        "\n",
        "Output: Balance - 500"
      ]
    },
    {
      "cell_type": "code",
      "metadata": {
        "id": "4G3p2rykMBmM",
        "colab_type": "code",
        "colab": {
          "base_uri": "https://localhost:8080/",
          "height": 104
        },
        "outputId": "2740dfcc-ba9d-495e-a81f-3c444be25109"
      },
      "source": [
        "n=int(input(\"Enter number of transactions:\"))\n",
        "lst= [input(\"Enter transaction type and amount:\").split() for i in range(0, n)]\n",
        "Acc={'balance':0}\n",
        "TransHist=[]\n",
        "for trans in lst:\n",
        "  if(trans[0]=='D'):\n",
        "    Acc['balance']+=int(trans[1])\n",
        "    TransHist.append(\"\")\n",
        "  elif(trans[0]=='W'):\n",
        "    Acc['balance']-=int(trans[1])\n",
        "print(\"The Main Account balance is:\",Acc['balance'])\n",
        "print(\"The tranaction log:\",lst)"
      ],
      "execution_count": 68,
      "outputs": [
        {
          "output_type": "stream",
          "text": [
            "Enter number of transactions:3\n",
            "Enter transaction type and amount:D 100\n",
            "Enter transaction type and amount:D 1000\n",
            "Enter transaction type and amount:W 500\n",
            "The Main Account balance is: 600\n"
          ],
          "name": "stdout"
        }
      ]
    },
    {
      "cell_type": "markdown",
      "metadata": {
        "id": "eYDqZii9M4ad",
        "colab_type": "text"
      },
      "source": [
        "# Afternoon Session"
      ]
    },
    {
      "cell_type": "markdown",
      "metadata": {
        "id": "bqlXPI0jpJhJ",
        "colab_type": "text"
      },
      "source": [
        "point wise multiplication of two arrays in vannila python"
      ]
    },
    {
      "cell_type": "code",
      "metadata": {
        "id": "BYRp4v1mpR0T",
        "colab_type": "code",
        "colab": {
          "base_uri": "https://localhost:8080/",
          "height": 34
        },
        "outputId": "b90bc1c0-dad7-43ba-e107-23934a29c1d3"
      },
      "source": [
        "l2=l1=[1,2,3]\n",
        "print(\"Adding two lists:\"l1+l2) # Actually its not the correct way so we are going with numpy"
      ],
      "execution_count": 71,
      "outputs": [
        {
          "output_type": "stream",
          "text": [
            "[1, 2, 3, 1, 2, 3]\n"
          ],
          "name": "stdout"
        }
      ]
    },
    {
      "cell_type": "markdown",
      "metadata": {
        "id": "6JOmv14tpXeP",
        "colab_type": "text"
      },
      "source": [
        "# Numpy-Python"
      ]
    },
    {
      "cell_type": "code",
      "metadata": {
        "id": "qM0_Uawhp11g",
        "colab_type": "code",
        "colab": {
          "base_uri": "https://localhost:8080/",
          "height": 86
        },
        "outputId": "a3173120-7b89-4f47-9b44-ea98fbdb1960"
      },
      "source": [
        "import numpy as np\n",
        "l2=l1=[1,2,3]\n",
        "l1=np.array(l1)\n",
        "l2=np.array(l2)\n",
        "print(\"Adding two arrays:\",l1+l2)\n",
        "print(\"Multiplying two arrays:\",l1*l2)\n",
        "print(\"Subracting two arrays:\",l1-l2)\n",
        "print(\"Dividing two arrays:\",l1/l2)"
      ],
      "execution_count": 74,
      "outputs": [
        {
          "output_type": "stream",
          "text": [
            "Adding two arrays: [2 4 6]\n",
            "Multiplying two arrays: [1 4 9]\n",
            "Subracting two arrays: [0 0 0]\n",
            "Dividing two arrays: [1. 1. 1.]\n"
          ],
          "name": "stdout"
        }
      ]
    },
    {
      "cell_type": "code",
      "metadata": {
        "id": "JpeGy2HzqMg4",
        "colab_type": "code",
        "colab": {
          "base_uri": "https://localhost:8080/",
          "height": 34
        },
        "outputId": "8e18d86d-d578-4593-ae8e-1e72c3005f67"
      },
      "source": [
        "arr=np.arange(10,1,-2)\n",
        "print(arr)"
      ],
      "execution_count": 75,
      "outputs": [
        {
          "output_type": "stream",
          "text": [
            "[10  8  6  4  2]\n"
          ],
          "name": "stdout"
        }
      ]
    },
    {
      "cell_type": "code",
      "metadata": {
        "id": "KB6HSe6Lsa6V",
        "colab_type": "code",
        "colab": {
          "base_uri": "https://localhost:8080/",
          "height": 34
        },
        "outputId": "8cffdf40-2ea5-4b48-ba82-6ab83e0cc1dd"
      },
      "source": [
        "newarr=arr[np.array([0,1,2,3])]\n",
        "print(newarr)"
      ],
      "execution_count": 81,
      "outputs": [
        {
          "output_type": "stream",
          "text": [
            "[10  8  6  4]\n"
          ],
          "name": "stdout"
        }
      ]
    },
    {
      "cell_type": "code",
      "metadata": {
        "id": "xxLor479sz-J",
        "colab_type": "code",
        "colab": {
          "base_uri": "https://localhost:8080/",
          "height": 34
        },
        "outputId": "199b6133-42ab-4d7a-d2e2-98dc376b09d5"
      },
      "source": [
        "newarr=arr[np.array([0,1,-3])]\n",
        "print(newarr)"
      ],
      "execution_count": 82,
      "outputs": [
        {
          "output_type": "stream",
          "text": [
            "[10  8  6]\n"
          ],
          "name": "stdout"
        }
      ]
    },
    {
      "cell_type": "code",
      "metadata": {
        "id": "gHr8k9LcuAZ8",
        "colab_type": "code",
        "colab": {}
      },
      "source": [
        ""
      ],
      "execution_count": 0,
      "outputs": []
    }
  ]
}