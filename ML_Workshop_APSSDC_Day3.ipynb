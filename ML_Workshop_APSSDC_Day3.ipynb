{
  "nbformat": 4,
  "nbformat_minor": 0,
  "metadata": {
    "colab": {
      "name": "ML_Workshop_APSSDC_Day3.ipynb",
      "provenance": [],
      "toc_visible": true,
      "authorship_tag": "ABX9TyMfaZxZ0gDajfeQIbdBd7ei",
      "include_colab_link": true
    },
    "kernelspec": {
      "name": "python3",
      "display_name": "Python 3"
    }
  },
  "cells": [
    {
      "cell_type": "markdown",
      "metadata": {
        "id": "view-in-github",
        "colab_type": "text"
      },
      "source": [
        "<a href=\"https://colab.research.google.com/github/ummadiviany/ML_Workshop_APSSDC/blob/master/ML_Workshop_APSSDC_Day3.ipynb\" target=\"_parent\"><img src=\"https://colab.research.google.com/assets/colab-badge.svg\" alt=\"Open In Colab\"/></a>"
      ]
    },
    {
      "cell_type": "markdown",
      "metadata": {
        "id": "SYywqW6Gl-74",
        "colab_type": "text"
      },
      "source": [
        "# Pandas | Matplotlib | Classes & Objects"
      ]
    },
    {
      "cell_type": "markdown",
      "metadata": {
        "id": "LF8XLEGZnPNU",
        "colab_type": "text"
      },
      "source": [
        "## Pandas"
      ]
    },
    {
      "cell_type": "markdown",
      "metadata": {
        "id": "27or8pmDqXN9",
        "colab_type": "text"
      },
      "source": [
        "### Creating a Pandas Series with and without index"
      ]
    },
    {
      "cell_type": "code",
      "metadata": {
        "id": "l4LlbllQqgCz",
        "colab_type": "code",
        "colab": {
          "base_uri": "https://localhost:8080/",
          "height": 121
        },
        "outputId": "f6c78e16-39c4-4e29-ab95-5e5d6c9fd78d"
      },
      "source": [
        "import pandas as pd       # import pandas with a variable name pd\n",
        "import numpy as np\n",
        "data=['monitor','keyboard','cpu','mouse']           #Create a list of components of computer as list\n",
        "#data1=[1,2,3,4,5,6]\n",
        "pdseries=pd.Series(data)\n",
        "print(\"The created pandas series is : \\n\",pdseries)"
      ],
      "execution_count": 1,
      "outputs": [
        {
          "output_type": "stream",
          "text": [
            "The created pandas series is : \n",
            " 0     monitor\n",
            "1    keyboard\n",
            "2         cpu\n",
            "3       mouse\n",
            "dtype: object\n"
          ],
          "name": "stdout"
        }
      ]
    },
    {
      "cell_type": "code",
      "metadata": {
        "id": "RtB11oxo2j5M",
        "colab_type": "code",
        "colab": {
          "base_uri": "https://localhost:8080/",
          "height": 139
        },
        "outputId": "5e1bd18a-280d-4f16-8433-60c241186fd8"
      },
      "source": [
        "s = pd.Series([1, 3, 5, np.nan, 6, 8])\n",
        "s"
      ],
      "execution_count": 11,
      "outputs": [
        {
          "output_type": "execute_result",
          "data": {
            "text/plain": [
              "0    1.0\n",
              "1    3.0\n",
              "2    5.0\n",
              "3    NaN\n",
              "4    6.0\n",
              "5    8.0\n",
              "dtype: float64"
            ]
          },
          "metadata": {
            "tags": []
          },
          "execution_count": 11
        }
      ]
    },
    {
      "cell_type": "code",
      "metadata": {
        "id": "Q_NDfV0rq9In",
        "colab_type": "code",
        "colab": {
          "base_uri": "https://localhost:8080/",
          "height": 121
        },
        "outputId": "add9f611-31d3-4b59-927b-4dee75d44a41"
      },
      "source": [
        "index=[1,2,3,4]\n",
        "pdseries1=pd.Series(data,index)\n",
        "print(\"The created pandas series is : \\n\",pdseries1)"
      ],
      "execution_count": 2,
      "outputs": [
        {
          "output_type": "stream",
          "text": [
            "The created pandas series is : \n",
            " 1     monitor\n",
            "2    keyboard\n",
            "3         cpu\n",
            "4       mouse\n",
            "dtype: object\n"
          ],
          "name": "stdout"
        }
      ]
    },
    {
      "cell_type": "markdown",
      "metadata": {
        "id": "uVV2XOzwv2Pv",
        "colab_type": "text"
      },
      "source": [
        "### Creating a Pandas Series with Dictionaries"
      ]
    },
    {
      "cell_type": "code",
      "metadata": {
        "id": "38GHFQ2xrcov",
        "colab_type": "code",
        "colab": {
          "base_uri": "https://localhost:8080/",
          "height": 121
        },
        "outputId": "ec258eb8-8636-49df-cbf4-8270266a8bed"
      },
      "source": [
        "#Dict={1:'monitor',2:'keyboard',3:'cpu',4:'mouse'}\n",
        "Dict=dict([(1,'cpu'),(2,'monitor'),(3,'mouse')])\n",
        "print(\"The created nested dictionary is :\",Dict)\n",
        "pdseries2=pd.Series(Dict)\n",
        "print(\"The created pandas series is : \\n\", pdseries2)"
      ],
      "execution_count": 3,
      "outputs": [
        {
          "output_type": "stream",
          "text": [
            "The created nested dictionary is : {1: 'cpu', 2: 'monitor', 3: 'mouse'}\n",
            "The created pandas series is : \n",
            " 1        cpu\n",
            "2    monitor\n",
            "3      mouse\n",
            "dtype: object\n"
          ],
          "name": "stdout"
        }
      ]
    },
    {
      "cell_type": "code",
      "metadata": {
        "id": "zhVK1590s0rV",
        "colab_type": "code",
        "colab": {
          "base_uri": "https://localhost:8080/",
          "height": 139
        },
        "outputId": "57d9655f-375d-481b-ed13-f3bbde1b1e81"
      },
      "source": [
        "DictNest=dict([(1,'monitor'),(2,'keyboard'),(3,'mouse'),(4,dict([('os1','ubuntu'),('os2','windows')]))])\n",
        "print(\"The created nested dictionary is :\",DictNest)\n",
        "pdseries3=pd.Series(DictNest)\n",
        "print(\"The created pandas series is : \\n\", pdseries3)"
      ],
      "execution_count": 4,
      "outputs": [
        {
          "output_type": "stream",
          "text": [
            "The created nested dictionary is : {1: 'monitor', 2: 'keyboard', 3: 'mouse', 4: {'os1': 'ubuntu', 'os2': 'windows'}}\n",
            "The created pandas series is : \n",
            " 1                                monitor\n",
            "2                               keyboard\n",
            "3                                  mouse\n",
            "4    {'os1': 'ubuntu', 'os2': 'windows'}\n",
            "dtype: object\n"
          ],
          "name": "stdout"
        }
      ]
    },
    {
      "cell_type": "markdown",
      "metadata": {
        "id": "tp_C0NKlvi0W",
        "colab_type": "text"
      },
      "source": [
        "### Create a ndarray with Pandas Series"
      ]
    },
    {
      "cell_type": "code",
      "metadata": {
        "id": "auU42PLKxWb9",
        "colab_type": "code",
        "colab": {
          "base_uri": "https://localhost:8080/",
          "height": 86
        },
        "outputId": "cfdec404-40ab-47b5-e21b-6f2f9357886c"
      },
      "source": [
        "data=[[1,2,3],[4,5,6]]\n",
        "pdseriesnd=pd.Series(data)\n",
        "print(\"The created ndarray with pandas series: \\n\",pdseriesnd)"
      ],
      "execution_count": 5,
      "outputs": [
        {
          "output_type": "stream",
          "text": [
            "The created ndarray with pandas series: \n",
            " 0    [1, 2, 3]\n",
            "1    [4, 5, 6]\n",
            "dtype: object\n"
          ],
          "name": "stdout"
        }
      ]
    },
    {
      "cell_type": "markdown",
      "metadata": {
        "id": "eem5s8h3xwzd",
        "colab_type": "text"
      },
      "source": [
        "### Creating a DataFrame with Pandas"
      ]
    },
    {
      "cell_type": "code",
      "metadata": {
        "id": "J-X8bio1ziIi",
        "colab_type": "code",
        "colab": {
          "base_uri": "https://localhost:8080/",
          "height": 278
        },
        "outputId": "750013e4-36c2-4141-e6de-dfc7722a1446"
      },
      "source": [
        "dict1={1:'one',2:'two',3:'three',5:'eight'}\n",
        "dict2={1:'four',2:'five',3:'six',4:'seven'}\n",
        "data={'first':dict1,'second':dict2}\n",
        "df=pd.DataFrame(data)\n",
        "pdseries=pd.Series(data)\n",
        "print(\"The created DataFrame is :\\n\",df)\n",
        "\n",
        "print(\"The dtype of DataFrame is :\\n\",df.dtypes)"
      ],
      "execution_count": 20,
      "outputs": [
        {
          "output_type": "stream",
          "text": [
            "The created DataFrame is :\n",
            "    first second\n",
            "1    one   four\n",
            "2    two   five\n",
            "3  three    six\n",
            "5  eight    NaN\n",
            "4    NaN  seven\n",
            "The dtype of DataFrame is :\n",
            " first     object\n",
            "second    object\n",
            "dtype: object\n",
            "The created pandas series is : \n",
            " first     {1: 'one', 2: 'two', 3: 'three', 5: 'eight'}\n",
            "second    {1: 'four', 2: 'five', 3: 'six', 4: 'seven'}\n",
            "dtype: object\n"
          ],
          "name": "stdout"
        }
      ]
    },
    {
      "cell_type": "code",
      "metadata": {
        "id": "wJZLQtuY4mcd",
        "colab_type": "code",
        "colab": {
          "base_uri": "https://localhost:8080/",
          "height": 86
        },
        "outputId": "9457197b-126f-4d69-e86a-af9f3d092a69"
      },
      "source": [
        "print(\"The created pandas series is : \\n\",pdseries)"
      ],
      "execution_count": 21,
      "outputs": [
        {
          "output_type": "stream",
          "text": [
            "The created pandas series is : \n",
            " first     {1: 'one', 2: 'two', 3: 'three', 5: 'eight'}\n",
            "second    {1: 'four', 2: 'five', 3: 'six', 4: 'seven'}\n",
            "dtype: object\n"
          ],
          "name": "stdout"
        }
      ]
    },
    {
      "cell_type": "markdown",
      "metadata": {
        "id": "KoIChg770Gjr",
        "colab_type": "text"
      },
      "source": [
        "### Creating a DataFrame by passing a NumPy array, with a datetime index and labeled columns:\n"
      ]
    },
    {
      "cell_type": "code",
      "metadata": {
        "id": "noFNo38326ER",
        "colab_type": "code",
        "colab": {
          "base_uri": "https://localhost:8080/",
          "height": 69
        },
        "outputId": "b6dd5245-9a6b-4cae-d593-61dd8f8cc6e4"
      },
      "source": [
        "dates = pd.date_range('20200225', periods=6)\n",
        "dates"
      ],
      "execution_count": 12,
      "outputs": [
        {
          "output_type": "execute_result",
          "data": {
            "text/plain": [
              "DatetimeIndex(['2020-02-25', '2020-02-26', '2020-02-27', '2020-02-28',\n",
              "               '2020-02-29', '2020-03-01'],\n",
              "              dtype='datetime64[ns]', freq='D')"
            ]
          },
          "metadata": {
            "tags": []
          },
          "execution_count": 12
        }
      ]
    },
    {
      "cell_type": "code",
      "metadata": {
        "id": "jQ6kiE9l3GX_",
        "colab_type": "code",
        "colab": {
          "base_uri": "https://localhost:8080/",
          "height": 238
        },
        "outputId": "f8f3e868-02af-4e70-edcd-8e3d635c618a"
      },
      "source": [
        "df = pd.DataFrame(np.random.randn(6, 4), index=dates, columns=list('ABCD'))\n",
        "df"
      ],
      "execution_count": 13,
      "outputs": [
        {
          "output_type": "execute_result",
          "data": {
            "text/html": [
              "<div>\n",
              "<style scoped>\n",
              "    .dataframe tbody tr th:only-of-type {\n",
              "        vertical-align: middle;\n",
              "    }\n",
              "\n",
              "    .dataframe tbody tr th {\n",
              "        vertical-align: top;\n",
              "    }\n",
              "\n",
              "    .dataframe thead th {\n",
              "        text-align: right;\n",
              "    }\n",
              "</style>\n",
              "<table border=\"1\" class=\"dataframe\">\n",
              "  <thead>\n",
              "    <tr style=\"text-align: right;\">\n",
              "      <th></th>\n",
              "      <th>A</th>\n",
              "      <th>B</th>\n",
              "      <th>C</th>\n",
              "      <th>D</th>\n",
              "    </tr>\n",
              "  </thead>\n",
              "  <tbody>\n",
              "    <tr>\n",
              "      <th>2020-02-25</th>\n",
              "      <td>0.980579</td>\n",
              "      <td>-1.075212</td>\n",
              "      <td>0.736092</td>\n",
              "      <td>0.661080</td>\n",
              "    </tr>\n",
              "    <tr>\n",
              "      <th>2020-02-26</th>\n",
              "      <td>0.189591</td>\n",
              "      <td>-0.641418</td>\n",
              "      <td>-0.625378</td>\n",
              "      <td>-0.446375</td>\n",
              "    </tr>\n",
              "    <tr>\n",
              "      <th>2020-02-27</th>\n",
              "      <td>0.551574</td>\n",
              "      <td>0.477396</td>\n",
              "      <td>1.141273</td>\n",
              "      <td>-0.549682</td>\n",
              "    </tr>\n",
              "    <tr>\n",
              "      <th>2020-02-28</th>\n",
              "      <td>-1.897653</td>\n",
              "      <td>-0.702423</td>\n",
              "      <td>1.254136</td>\n",
              "      <td>1.467247</td>\n",
              "    </tr>\n",
              "    <tr>\n",
              "      <th>2020-02-29</th>\n",
              "      <td>-0.496246</td>\n",
              "      <td>-0.569103</td>\n",
              "      <td>-0.500737</td>\n",
              "      <td>1.394751</td>\n",
              "    </tr>\n",
              "    <tr>\n",
              "      <th>2020-03-01</th>\n",
              "      <td>0.009148</td>\n",
              "      <td>0.157796</td>\n",
              "      <td>0.636300</td>\n",
              "      <td>-1.677282</td>\n",
              "    </tr>\n",
              "  </tbody>\n",
              "</table>\n",
              "</div>"
            ],
            "text/plain": [
              "                   A         B         C         D\n",
              "2020-02-25  0.980579 -1.075212  0.736092  0.661080\n",
              "2020-02-26  0.189591 -0.641418 -0.625378 -0.446375\n",
              "2020-02-27  0.551574  0.477396  1.141273 -0.549682\n",
              "2020-02-28 -1.897653 -0.702423  1.254136  1.467247\n",
              "2020-02-29 -0.496246 -0.569103 -0.500737  1.394751\n",
              "2020-03-01  0.009148  0.157796  0.636300 -1.677282"
            ]
          },
          "metadata": {
            "tags": []
          },
          "execution_count": 13
        }
      ]
    },
    {
      "cell_type": "markdown",
      "metadata": {
        "id": "eNc70URs3eup",
        "colab_type": "text"
      },
      "source": [
        "### Creating a DataFrame by passing a dict of objects that can be converted to series-like."
      ]
    },
    {
      "cell_type": "code",
      "metadata": {
        "id": "C6Q_1_PX3pWd",
        "colab_type": "code",
        "colab": {
          "base_uri": "https://localhost:8080/",
          "height": 237
        },
        "outputId": "10e05447-ad98-454d-c4b5-0b0aadb53e20"
      },
      "source": [
        "df2 = pd.DataFrame({'A': np.randint.rand(4),\n",
        "                    'B': pd.Timestamp('20200225'),\n",
        "                    'C': pd.Series(1, index=list(range(4)), dtype='float32'),\n",
        "                    'D': np.array([3] * 4, dtype='int32'),\n",
        "                    'E': pd.Categorical([\"test\", \"train\", \"test\", \"train\"]),\n",
        "                    'F': 'foo'})\n",
        "df2"
      ],
      "execution_count": 18,
      "outputs": [
        {
          "output_type": "error",
          "ename": "AttributeError",
          "evalue": "ignored",
          "traceback": [
            "\u001b[0;31m---------------------------------------------------------------------------\u001b[0m",
            "\u001b[0;31mAttributeError\u001b[0m                            Traceback (most recent call last)",
            "\u001b[0;32m<ipython-input-18-3946604bd655>\u001b[0m in \u001b[0;36m<module>\u001b[0;34m()\u001b[0m\n\u001b[0;32m----> 1\u001b[0;31m df2 = pd.DataFrame({'A': np.randint.rand(4),\n\u001b[0m\u001b[1;32m      2\u001b[0m                     \u001b[0;34m'B'\u001b[0m\u001b[0;34m:\u001b[0m \u001b[0mpd\u001b[0m\u001b[0;34m.\u001b[0m\u001b[0mTimestamp\u001b[0m\u001b[0;34m(\u001b[0m\u001b[0;34m'20200225'\u001b[0m\u001b[0;34m)\u001b[0m\u001b[0;34m,\u001b[0m\u001b[0;34m\u001b[0m\u001b[0;34m\u001b[0m\u001b[0m\n\u001b[1;32m      3\u001b[0m                     \u001b[0;34m'C'\u001b[0m\u001b[0;34m:\u001b[0m \u001b[0mpd\u001b[0m\u001b[0;34m.\u001b[0m\u001b[0mSeries\u001b[0m\u001b[0;34m(\u001b[0m\u001b[0;36m1\u001b[0m\u001b[0;34m,\u001b[0m \u001b[0mindex\u001b[0m\u001b[0;34m=\u001b[0m\u001b[0mlist\u001b[0m\u001b[0;34m(\u001b[0m\u001b[0mrange\u001b[0m\u001b[0;34m(\u001b[0m\u001b[0;36m4\u001b[0m\u001b[0;34m)\u001b[0m\u001b[0;34m)\u001b[0m\u001b[0;34m,\u001b[0m \u001b[0mdtype\u001b[0m\u001b[0;34m=\u001b[0m\u001b[0;34m'float32'\u001b[0m\u001b[0;34m)\u001b[0m\u001b[0;34m,\u001b[0m\u001b[0;34m\u001b[0m\u001b[0;34m\u001b[0m\u001b[0m\n\u001b[1;32m      4\u001b[0m                     \u001b[0;34m'D'\u001b[0m\u001b[0;34m:\u001b[0m \u001b[0mnp\u001b[0m\u001b[0;34m.\u001b[0m\u001b[0marray\u001b[0m\u001b[0;34m(\u001b[0m\u001b[0;34m[\u001b[0m\u001b[0;36m3\u001b[0m\u001b[0;34m]\u001b[0m \u001b[0;34m*\u001b[0m \u001b[0;36m4\u001b[0m\u001b[0;34m,\u001b[0m \u001b[0mdtype\u001b[0m\u001b[0;34m=\u001b[0m\u001b[0;34m'int32'\u001b[0m\u001b[0;34m)\u001b[0m\u001b[0;34m,\u001b[0m\u001b[0;34m\u001b[0m\u001b[0;34m\u001b[0m\u001b[0m\n\u001b[1;32m      5\u001b[0m                     \u001b[0;34m'E'\u001b[0m\u001b[0;34m:\u001b[0m \u001b[0mpd\u001b[0m\u001b[0;34m.\u001b[0m\u001b[0mCategorical\u001b[0m\u001b[0;34m(\u001b[0m\u001b[0;34m[\u001b[0m\u001b[0;34m\"test\"\u001b[0m\u001b[0;34m,\u001b[0m \u001b[0;34m\"train\"\u001b[0m\u001b[0;34m,\u001b[0m \u001b[0;34m\"test\"\u001b[0m\u001b[0;34m,\u001b[0m \u001b[0;34m\"train\"\u001b[0m\u001b[0;34m]\u001b[0m\u001b[0;34m)\u001b[0m\u001b[0;34m,\u001b[0m\u001b[0;34m\u001b[0m\u001b[0;34m\u001b[0m\u001b[0m\n",
            "\u001b[0;31mAttributeError\u001b[0m: module 'numpy' has no attribute 'randint'"
          ]
        }
      ]
    },
    {
      "cell_type": "code",
      "metadata": {
        "id": "XwmeHIpE37Eo",
        "colab_type": "code",
        "colab": {}
      },
      "source": [
        ""
      ],
      "execution_count": 0,
      "outputs": []
    }
  ]
}