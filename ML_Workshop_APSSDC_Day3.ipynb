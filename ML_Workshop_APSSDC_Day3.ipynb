{
  "nbformat": 4,
  "nbformat_minor": 0,
  "metadata": {
    "colab": {
      "name": "ML_Workshop_APSSDC_Day3.ipynb",
      "provenance": [],
      "collapsed_sections": [],
      "toc_visible": true,
      "authorship_tag": "ABX9TyPFLKVv32PpWQ1oRRxd8ROm",
      "include_colab_link": true
    },
    "kernelspec": {
      "name": "python3",
      "display_name": "Python 3"
    }
  },
  "cells": [
    {
      "cell_type": "markdown",
      "metadata": {
        "id": "view-in-github",
        "colab_type": "text"
      },
      "source": [
        "<a href=\"https://colab.research.google.com/github/ummadiviany/ML_Workshop_APSSDC/blob/master/ML_Workshop_APSSDC_Day3.ipynb\" target=\"_parent\"><img src=\"https://colab.research.google.com/assets/colab-badge.svg\" alt=\"Open In Colab\"/></a>"
      ]
    },
    {
      "cell_type": "markdown",
      "metadata": {
        "id": "SYywqW6Gl-74",
        "colab_type": "text"
      },
      "source": [
        "# Pandas | Matplotlib | Classes & Objects"
      ]
    },
    {
      "cell_type": "markdown",
      "metadata": {
        "id": "LF8XLEGZnPNU",
        "colab_type": "text"
      },
      "source": [
        "## Pandas"
      ]
    },
    {
      "cell_type": "markdown",
      "metadata": {
        "id": "27or8pmDqXN9",
        "colab_type": "text"
      },
      "source": [
        "### Creating a Pandas Series with and without index"
      ]
    },
    {
      "cell_type": "code",
      "metadata": {
        "id": "l4LlbllQqgCz",
        "colab_type": "code",
        "outputId": "f6c78e16-39c4-4e29-ab95-5e5d6c9fd78d",
        "colab": {
          "base_uri": "https://localhost:8080/",
          "height": 121
        }
      },
      "source": [
        "import pandas as pd       # import pandas with a variable name pd\n",
        "import numpy as np\n",
        "data=['monitor','keyboard','cpu','mouse']           #Create a list of components of computer as list\n",
        "#data1=[1,2,3,4,5,6]\n",
        "pdseries=pd.Series(data)\n",
        "print(\"The created pandas series is : \\n\",pdseries)"
      ],
      "execution_count": 0,
      "outputs": [
        {
          "output_type": "stream",
          "text": [
            "The created pandas series is : \n",
            " 0     monitor\n",
            "1    keyboard\n",
            "2         cpu\n",
            "3       mouse\n",
            "dtype: object\n"
          ],
          "name": "stdout"
        }
      ]
    },
    {
      "cell_type": "code",
      "metadata": {
        "id": "RtB11oxo2j5M",
        "colab_type": "code",
        "outputId": "5e1bd18a-280d-4f16-8433-60c241186fd8",
        "colab": {
          "base_uri": "https://localhost:8080/",
          "height": 139
        }
      },
      "source": [
        "s = pd.Series([1, 3, 5, np.nan, 6, 8])\n",
        "s"
      ],
      "execution_count": 0,
      "outputs": [
        {
          "output_type": "execute_result",
          "data": {
            "text/plain": [
              "0    1.0\n",
              "1    3.0\n",
              "2    5.0\n",
              "3    NaN\n",
              "4    6.0\n",
              "5    8.0\n",
              "dtype: float64"
            ]
          },
          "metadata": {
            "tags": []
          },
          "execution_count": 11
        }
      ]
    },
    {
      "cell_type": "code",
      "metadata": {
        "id": "Q_NDfV0rq9In",
        "colab_type": "code",
        "outputId": "add9f611-31d3-4b59-927b-4dee75d44a41",
        "colab": {
          "base_uri": "https://localhost:8080/",
          "height": 121
        }
      },
      "source": [
        "index=[1,2,3,4]\n",
        "pdseries1=pd.Series(data,index)\n",
        "print(\"The created pandas series is : \\n\",pdseries1)"
      ],
      "execution_count": 0,
      "outputs": [
        {
          "output_type": "stream",
          "text": [
            "The created pandas series is : \n",
            " 1     monitor\n",
            "2    keyboard\n",
            "3         cpu\n",
            "4       mouse\n",
            "dtype: object\n"
          ],
          "name": "stdout"
        }
      ]
    },
    {
      "cell_type": "markdown",
      "metadata": {
        "id": "uVV2XOzwv2Pv",
        "colab_type": "text"
      },
      "source": [
        "### Creating a Pandas Series with Dictionaries"
      ]
    },
    {
      "cell_type": "code",
      "metadata": {
        "id": "38GHFQ2xrcov",
        "colab_type": "code",
        "outputId": "ec258eb8-8636-49df-cbf4-8270266a8bed",
        "colab": {
          "base_uri": "https://localhost:8080/",
          "height": 121
        }
      },
      "source": [
        "#Dict={1:'monitor',2:'keyboard',3:'cpu',4:'mouse'}\n",
        "Dict=dict([(1,'cpu'),(2,'monitor'),(3,'mouse')])\n",
        "print(\"The created nested dictionary is :\",Dict)\n",
        "pdseries2=pd.Series(Dict)\n",
        "print(\"The created pandas series is : \\n\", pdseries2)"
      ],
      "execution_count": 0,
      "outputs": [
        {
          "output_type": "stream",
          "text": [
            "The created nested dictionary is : {1: 'cpu', 2: 'monitor', 3: 'mouse'}\n",
            "The created pandas series is : \n",
            " 1        cpu\n",
            "2    monitor\n",
            "3      mouse\n",
            "dtype: object\n"
          ],
          "name": "stdout"
        }
      ]
    },
    {
      "cell_type": "code",
      "metadata": {
        "id": "zhVK1590s0rV",
        "colab_type": "code",
        "outputId": "57d9655f-375d-481b-ed13-f3bbde1b1e81",
        "colab": {
          "base_uri": "https://localhost:8080/",
          "height": 139
        }
      },
      "source": [
        "DictNest=dict([(1,'monitor'),(2,'keyboard'),(3,'mouse'),(4,dict([('os1','ubuntu'),('os2','windows')]))])\n",
        "print(\"The created nested dictionary is :\",DictNest)\n",
        "pdseries3=pd.Series(DictNest)\n",
        "print(\"The created pandas series is : \\n\", pdseries3)"
      ],
      "execution_count": 0,
      "outputs": [
        {
          "output_type": "stream",
          "text": [
            "The created nested dictionary is : {1: 'monitor', 2: 'keyboard', 3: 'mouse', 4: {'os1': 'ubuntu', 'os2': 'windows'}}\n",
            "The created pandas series is : \n",
            " 1                                monitor\n",
            "2                               keyboard\n",
            "3                                  mouse\n",
            "4    {'os1': 'ubuntu', 'os2': 'windows'}\n",
            "dtype: object\n"
          ],
          "name": "stdout"
        }
      ]
    },
    {
      "cell_type": "markdown",
      "metadata": {
        "id": "tp_C0NKlvi0W",
        "colab_type": "text"
      },
      "source": [
        "### Create a ndarray with Pandas Series"
      ]
    },
    {
      "cell_type": "code",
      "metadata": {
        "id": "auU42PLKxWb9",
        "colab_type": "code",
        "outputId": "cfdec404-40ab-47b5-e21b-6f2f9357886c",
        "colab": {
          "base_uri": "https://localhost:8080/",
          "height": 86
        }
      },
      "source": [
        "data=[[1,2,3],[4,5,6]]\n",
        "pdseriesnd=pd.Series(data)\n",
        "print(\"The created ndarray with pandas series: \\n\",pdseriesnd)"
      ],
      "execution_count": 0,
      "outputs": [
        {
          "output_type": "stream",
          "text": [
            "The created ndarray with pandas series: \n",
            " 0    [1, 2, 3]\n",
            "1    [4, 5, 6]\n",
            "dtype: object\n"
          ],
          "name": "stdout"
        }
      ]
    },
    {
      "cell_type": "markdown",
      "metadata": {
        "id": "eem5s8h3xwzd",
        "colab_type": "text"
      },
      "source": [
        "### Creating a DataFrame with Pandas"
      ]
    },
    {
      "cell_type": "code",
      "metadata": {
        "id": "J-X8bio1ziIi",
        "colab_type": "code",
        "outputId": "750013e4-36c2-4141-e6de-dfc7722a1446",
        "colab": {
          "base_uri": "https://localhost:8080/",
          "height": 278
        }
      },
      "source": [
        "dict1={1:'one',2:'two',3:'three',5:'eight'}\n",
        "dict2={1:'four',2:'five',3:'six',4:'seven'}\n",
        "data={'first':dict1,'second':dict2}\n",
        "df=pd.DataFrame(data)\n",
        "pdseries=pd.Series(data)\n",
        "print(\"The created DataFrame is :\\n\",df)\n",
        "\n",
        "print(\"The dtype of DataFrame is :\\n\",df.dtypes)"
      ],
      "execution_count": 0,
      "outputs": [
        {
          "output_type": "stream",
          "text": [
            "The created DataFrame is :\n",
            "    first second\n",
            "1    one   four\n",
            "2    two   five\n",
            "3  three    six\n",
            "5  eight    NaN\n",
            "4    NaN  seven\n",
            "The dtype of DataFrame is :\n",
            " first     object\n",
            "second    object\n",
            "dtype: object\n",
            "The created pandas series is : \n",
            " first     {1: 'one', 2: 'two', 3: 'three', 5: 'eight'}\n",
            "second    {1: 'four', 2: 'five', 3: 'six', 4: 'seven'}\n",
            "dtype: object\n"
          ],
          "name": "stdout"
        }
      ]
    },
    {
      "cell_type": "code",
      "metadata": {
        "id": "wJZLQtuY4mcd",
        "colab_type": "code",
        "outputId": "9457197b-126f-4d69-e86a-af9f3d092a69",
        "colab": {
          "base_uri": "https://localhost:8080/",
          "height": 86
        }
      },
      "source": [
        "print(\"The created pandas series is : \\n\",pdseries)"
      ],
      "execution_count": 0,
      "outputs": [
        {
          "output_type": "stream",
          "text": [
            "The created pandas series is : \n",
            " first     {1: 'one', 2: 'two', 3: 'three', 5: 'eight'}\n",
            "second    {1: 'four', 2: 'five', 3: 'six', 4: 'seven'}\n",
            "dtype: object\n"
          ],
          "name": "stdout"
        }
      ]
    },
    {
      "cell_type": "markdown",
      "metadata": {
        "id": "Wp6ZJSJN8uvA",
        "colab_type": "text"
      },
      "source": [
        "### Creating DataFrame with multiple Series"
      ]
    },
    {
      "cell_type": "code",
      "metadata": {
        "id": "OJPEdOB884YP",
        "colab_type": "code",
        "outputId": "14697e00-875a-4b44-b567-62a3cb777724",
        "colab": {
          "base_uri": "https://localhost:8080/",
          "height": 206
        }
      },
      "source": [
        "s1=pd.Series([1,2,3,4,5])\n",
        "s2=pd.Series([np.random.randint(1,10) for x in range(5)])\n",
        "s3=pd.Series([str('f')*i for i in range(1,6)])\n",
        "dfs=pd.DataFrame(dict(s1=s1,s2=s2,s3=s3),index=range(5))\n",
        "dfs"
      ],
      "execution_count": 0,
      "outputs": [
        {
          "output_type": "execute_result",
          "data": {
            "text/html": [
              "<div>\n",
              "<style scoped>\n",
              "    .dataframe tbody tr th:only-of-type {\n",
              "        vertical-align: middle;\n",
              "    }\n",
              "\n",
              "    .dataframe tbody tr th {\n",
              "        vertical-align: top;\n",
              "    }\n",
              "\n",
              "    .dataframe thead th {\n",
              "        text-align: right;\n",
              "    }\n",
              "</style>\n",
              "<table border=\"1\" class=\"dataframe\">\n",
              "  <thead>\n",
              "    <tr style=\"text-align: right;\">\n",
              "      <th></th>\n",
              "      <th>s1</th>\n",
              "      <th>s2</th>\n",
              "      <th>s3</th>\n",
              "    </tr>\n",
              "  </thead>\n",
              "  <tbody>\n",
              "    <tr>\n",
              "      <th>0</th>\n",
              "      <td>1</td>\n",
              "      <td>8</td>\n",
              "      <td>f</td>\n",
              "    </tr>\n",
              "    <tr>\n",
              "      <th>1</th>\n",
              "      <td>2</td>\n",
              "      <td>5</td>\n",
              "      <td>ff</td>\n",
              "    </tr>\n",
              "    <tr>\n",
              "      <th>2</th>\n",
              "      <td>3</td>\n",
              "      <td>4</td>\n",
              "      <td>fff</td>\n",
              "    </tr>\n",
              "    <tr>\n",
              "      <th>3</th>\n",
              "      <td>4</td>\n",
              "      <td>2</td>\n",
              "      <td>ffff</td>\n",
              "    </tr>\n",
              "    <tr>\n",
              "      <th>4</th>\n",
              "      <td>5</td>\n",
              "      <td>9</td>\n",
              "      <td>fffff</td>\n",
              "    </tr>\n",
              "  </tbody>\n",
              "</table>\n",
              "</div>"
            ],
            "text/plain": [
              "   s1  s2     s3\n",
              "0   1   8      f\n",
              "1   2   5     ff\n",
              "2   3   4    fff\n",
              "3   4   2   ffff\n",
              "4   5   9  fffff"
            ]
          },
          "metadata": {
            "tags": []
          },
          "execution_count": 37
        }
      ]
    },
    {
      "cell_type": "markdown",
      "metadata": {
        "id": "drEHBatKCmUy",
        "colab_type": "text"
      },
      "source": [
        "### Create a Pandas DataFrame from 2D arrays"
      ]
    },
    {
      "cell_type": "code",
      "metadata": {
        "id": "BYdToiqZCxsv",
        "colab_type": "code",
        "outputId": "6a4b81b4-c8ba-44b8-866c-924a09536cf7",
        "colab": {
          "base_uri": "https://localhost:8080/",
          "height": 86
        }
      },
      "source": [
        "d1=[[1,2,3,],[4,5,6]]\n",
        "d2=[[7,8,9],[1,2,3]]\n",
        "data={'first':d1,'second':d2}\n",
        "#data=dict(d1=d1,d2=d2)\n",
        "df2d=pd.DataFrame(data)\n",
        "print(\"The created Pandas DataFrmae is :\\n\",df2d)"
      ],
      "execution_count": 0,
      "outputs": [
        {
          "output_type": "stream",
          "text": [
            "The created Pandas DataFrmae is :\n",
            "        first     second\n",
            "0  [1, 2, 3]  [7, 8, 9]\n",
            "1  [4, 5, 6]  [1, 2, 3]\n"
          ],
          "name": "stdout"
        }
      ]
    },
    {
      "cell_type": "markdown",
      "metadata": {
        "id": "KoIChg770Gjr",
        "colab_type": "text"
      },
      "source": [
        "### Creating a DataFrame by passing a NumPy array, with a datetime index and labeled columns:\n"
      ]
    },
    {
      "cell_type": "code",
      "metadata": {
        "id": "noFNo38326ER",
        "colab_type": "code",
        "outputId": "b6dd5245-9a6b-4cae-d593-61dd8f8cc6e4",
        "colab": {
          "base_uri": "https://localhost:8080/",
          "height": 69
        }
      },
      "source": [
        "dates = pd.date_range('20200225', periods=6)\n",
        "dates"
      ],
      "execution_count": 0,
      "outputs": [
        {
          "output_type": "execute_result",
          "data": {
            "text/plain": [
              "DatetimeIndex(['2020-02-25', '2020-02-26', '2020-02-27', '2020-02-28',\n",
              "               '2020-02-29', '2020-03-01'],\n",
              "              dtype='datetime64[ns]', freq='D')"
            ]
          },
          "metadata": {
            "tags": []
          },
          "execution_count": 12
        }
      ]
    },
    {
      "cell_type": "code",
      "metadata": {
        "id": "jQ6kiE9l3GX_",
        "colab_type": "code",
        "outputId": "f8f3e868-02af-4e70-edcd-8e3d635c618a",
        "colab": {
          "base_uri": "https://localhost:8080/",
          "height": 238
        }
      },
      "source": [
        "df = pd.DataFrame(np.random.randn(6, 4), index=dates, columns=list('ABCD'))\n",
        "df"
      ],
      "execution_count": 0,
      "outputs": [
        {
          "output_type": "execute_result",
          "data": {
            "text/html": [
              "<div>\n",
              "<style scoped>\n",
              "    .dataframe tbody tr th:only-of-type {\n",
              "        vertical-align: middle;\n",
              "    }\n",
              "\n",
              "    .dataframe tbody tr th {\n",
              "        vertical-align: top;\n",
              "    }\n",
              "\n",
              "    .dataframe thead th {\n",
              "        text-align: right;\n",
              "    }\n",
              "</style>\n",
              "<table border=\"1\" class=\"dataframe\">\n",
              "  <thead>\n",
              "    <tr style=\"text-align: right;\">\n",
              "      <th></th>\n",
              "      <th>A</th>\n",
              "      <th>B</th>\n",
              "      <th>C</th>\n",
              "      <th>D</th>\n",
              "    </tr>\n",
              "  </thead>\n",
              "  <tbody>\n",
              "    <tr>\n",
              "      <th>2020-02-25</th>\n",
              "      <td>0.980579</td>\n",
              "      <td>-1.075212</td>\n",
              "      <td>0.736092</td>\n",
              "      <td>0.661080</td>\n",
              "    </tr>\n",
              "    <tr>\n",
              "      <th>2020-02-26</th>\n",
              "      <td>0.189591</td>\n",
              "      <td>-0.641418</td>\n",
              "      <td>-0.625378</td>\n",
              "      <td>-0.446375</td>\n",
              "    </tr>\n",
              "    <tr>\n",
              "      <th>2020-02-27</th>\n",
              "      <td>0.551574</td>\n",
              "      <td>0.477396</td>\n",
              "      <td>1.141273</td>\n",
              "      <td>-0.549682</td>\n",
              "    </tr>\n",
              "    <tr>\n",
              "      <th>2020-02-28</th>\n",
              "      <td>-1.897653</td>\n",
              "      <td>-0.702423</td>\n",
              "      <td>1.254136</td>\n",
              "      <td>1.467247</td>\n",
              "    </tr>\n",
              "    <tr>\n",
              "      <th>2020-02-29</th>\n",
              "      <td>-0.496246</td>\n",
              "      <td>-0.569103</td>\n",
              "      <td>-0.500737</td>\n",
              "      <td>1.394751</td>\n",
              "    </tr>\n",
              "    <tr>\n",
              "      <th>2020-03-01</th>\n",
              "      <td>0.009148</td>\n",
              "      <td>0.157796</td>\n",
              "      <td>0.636300</td>\n",
              "      <td>-1.677282</td>\n",
              "    </tr>\n",
              "  </tbody>\n",
              "</table>\n",
              "</div>"
            ],
            "text/plain": [
              "                   A         B         C         D\n",
              "2020-02-25  0.980579 -1.075212  0.736092  0.661080\n",
              "2020-02-26  0.189591 -0.641418 -0.625378 -0.446375\n",
              "2020-02-27  0.551574  0.477396  1.141273 -0.549682\n",
              "2020-02-28 -1.897653 -0.702423  1.254136  1.467247\n",
              "2020-02-29 -0.496246 -0.569103 -0.500737  1.394751\n",
              "2020-03-01  0.009148  0.157796  0.636300 -1.677282"
            ]
          },
          "metadata": {
            "tags": []
          },
          "execution_count": 13
        }
      ]
    },
    {
      "cell_type": "markdown",
      "metadata": {
        "id": "eNc70URs3eup",
        "colab_type": "text"
      },
      "source": [
        "### Creating a DataFrame by passing a dict of objects that can be converted to series-like."
      ]
    },
    {
      "cell_type": "code",
      "metadata": {
        "id": "C6Q_1_PX3pWd",
        "colab_type": "code",
        "outputId": "4554eb8f-1b41-4287-b90b-f7181e942ba0",
        "colab": {
          "base_uri": "https://localhost:8080/",
          "height": 175
        }
      },
      "source": [
        "df2 = pd.DataFrame({'A': [np.random.randint(1,20) for x in range(4)],\n",
        "                    'B': pd.Timestamp('20200225'),\n",
        "                    'C': pd.Series(1, index=list(range(4)), dtype='float32'),\n",
        "                    'D': np.array([3] * 4, dtype='int32'),\n",
        "                    'E': pd.Categorical([\"test\", \"train\", \"test\", \"train\"]),\n",
        "                    'F': 'foo'})\n",
        "df2"
      ],
      "execution_count": 0,
      "outputs": [
        {
          "output_type": "execute_result",
          "data": {
            "text/html": [
              "<div>\n",
              "<style scoped>\n",
              "    .dataframe tbody tr th:only-of-type {\n",
              "        vertical-align: middle;\n",
              "    }\n",
              "\n",
              "    .dataframe tbody tr th {\n",
              "        vertical-align: top;\n",
              "    }\n",
              "\n",
              "    .dataframe thead th {\n",
              "        text-align: right;\n",
              "    }\n",
              "</style>\n",
              "<table border=\"1\" class=\"dataframe\">\n",
              "  <thead>\n",
              "    <tr style=\"text-align: right;\">\n",
              "      <th></th>\n",
              "      <th>A</th>\n",
              "      <th>B</th>\n",
              "      <th>C</th>\n",
              "      <th>D</th>\n",
              "      <th>E</th>\n",
              "      <th>F</th>\n",
              "    </tr>\n",
              "  </thead>\n",
              "  <tbody>\n",
              "    <tr>\n",
              "      <th>0</th>\n",
              "      <td>7</td>\n",
              "      <td>2020-02-25</td>\n",
              "      <td>1.0</td>\n",
              "      <td>3</td>\n",
              "      <td>test</td>\n",
              "      <td>foo</td>\n",
              "    </tr>\n",
              "    <tr>\n",
              "      <th>1</th>\n",
              "      <td>8</td>\n",
              "      <td>2020-02-25</td>\n",
              "      <td>1.0</td>\n",
              "      <td>3</td>\n",
              "      <td>train</td>\n",
              "      <td>foo</td>\n",
              "    </tr>\n",
              "    <tr>\n",
              "      <th>2</th>\n",
              "      <td>19</td>\n",
              "      <td>2020-02-25</td>\n",
              "      <td>1.0</td>\n",
              "      <td>3</td>\n",
              "      <td>test</td>\n",
              "      <td>foo</td>\n",
              "    </tr>\n",
              "    <tr>\n",
              "      <th>3</th>\n",
              "      <td>12</td>\n",
              "      <td>2020-02-25</td>\n",
              "      <td>1.0</td>\n",
              "      <td>3</td>\n",
              "      <td>train</td>\n",
              "      <td>foo</td>\n",
              "    </tr>\n",
              "  </tbody>\n",
              "</table>\n",
              "</div>"
            ],
            "text/plain": [
              "    A          B    C  D      E    F\n",
              "0   7 2020-02-25  1.0  3   test  foo\n",
              "1   8 2020-02-25  1.0  3  train  foo\n",
              "2  19 2020-02-25  1.0  3   test  foo\n",
              "3  12 2020-02-25  1.0  3  train  foo"
            ]
          },
          "metadata": {
            "tags": []
          },
          "execution_count": 29
        }
      ]
    },
    {
      "cell_type": "markdown",
      "metadata": {
        "id": "XwmeHIpE37Eo",
        "colab_type": "text"
      },
      "source": [
        "### [For more advanced Pandas tutorial click here](https://pandas.pydata.org/pandas-docs/stable/getting_started/10min.html)"
      ]
    },
    {
      "cell_type": "markdown",
      "metadata": {
        "id": "kiHote7vGsHs",
        "colab_type": "text"
      },
      "source": [
        "## Matplotlib"
      ]
    },
    {
      "cell_type": "code",
      "metadata": {
        "id": "eNWUmDYEGxZe",
        "colab_type": "code",
        "colab": {}
      },
      "source": [
        "import matplotlib.pyplot as plt\n"
      ],
      "execution_count": 0,
      "outputs": []
    },
    {
      "cell_type": "markdown",
      "metadata": {
        "id": "z8l4kPzxHdzU",
        "colab_type": "text"
      },
      "source": [
        "### Plotting a line "
      ]
    },
    {
      "cell_type": "code",
      "metadata": {
        "id": "hC6K6eoaHJ6-",
        "colab_type": "code",
        "outputId": "a8150257-09e3-4c51-c7f9-97b8f48aa6eb",
        "colab": {
          "base_uri": "https://localhost:8080/",
          "height": 295
        }
      },
      "source": [
        "x=list(range(-3,4))\n",
        "y=[x**2 for x in x]\n",
        "plt.xlabel(\"X Values\")\n",
        "plt.ylabel(\"Y Values\")\n",
        "plt.title(\"The Line Chart\")\n",
        "plt.axis([-5,5,0,10])\n",
        "plt.plot(x,y)\n",
        "plt.show()"
      ],
      "execution_count": 0,
      "outputs": [
        {
          "output_type": "display_data",
          "data": {
            "image/png": "[encoded data removed]",
            "text/plain": [
              "<Figure size 432x288 with 1 Axes>"
            ]
          },
          "metadata": {
            "tags": []
          }
        }
      ]
    },
    {
      "cell_type": "code",
      "metadata": {
        "id": "vM1XKnjdM7l9",
        "colab_type": "code",
        "outputId": "7f71aa50-3442-438a-c456-7f86f481212a",
        "colab": {
          "base_uri": "https://localhost:8080/",
          "height": 265
        }
      },
      "source": [
        "import numpy as np\n",
        "\n",
        "# evenly sampled time at 200ms intervals\n",
        "t = np.arange(0., 5., 0.2)\n",
        "\n",
        "# red dashes, blue squares and green triangles\n",
        "plt.plot(t, t, 'r--', t, t**2, 'b--s', t, t**3, 'g--^')\n",
        "plt.show()"
      ],
      "execution_count": 0,
      "outputs": [
        {
          "output_type": "display_data",
          "data": {
            "image/png": "[encoded data removed]",
            "text/plain": [
              "<Figure size 432x288 with 1 Axes>"
            ]
          },
          "metadata": {
            "tags": []
          }
        }
      ]
    },
    {
      "cell_type": "markdown",
      "metadata": {
        "id": "yODv3z8zHxJM",
        "colab_type": "text"
      },
      "source": [
        "### Bar Chart"
      ]
    },
    {
      "cell_type": "code",
      "metadata": {
        "id": "i-TAc225K-OH",
        "colab_type": "code",
        "outputId": "87ff5eee-0c58-4e3b-ab98-2b7243e70b67",
        "colab": {
          "base_uri": "https://localhost:8080/",
          "height": 295
        }
      },
      "source": [
        "x=list(range(-3,4))\n",
        "y=[x**2 for x in x]\n",
        "plt.xlabel(\"X Values\")\n",
        "plt.ylabel(\"Y Values\")\n",
        "plt.title(\"The Bar Chart\")\n",
        "plt.axis([-5,5,0,10])\n",
        "plt.bar(x,y)    #we cannot plot with single argument in bar chart\n",
        "plt.show()"
      ],
      "execution_count": 0,
      "outputs": [
        {
          "output_type": "display_data",
          "data": {
            "image/png": "[encoded data removed]",
            "text/plain": [
              "<Figure size 432x288 with 1 Axes>"
            ]
          },
          "metadata": {
            "tags": []
          }
        }
      ]
    },
    {
      "cell_type": "markdown",
      "metadata": {
        "id": "oLigruLcLOi7",
        "colab_type": "text"
      },
      "source": [
        "### Scatter"
      ]
    },
    {
      "cell_type": "code",
      "metadata": {
        "id": "GP6DltgGL98O",
        "colab_type": "code",
        "outputId": "466fa0d5-c6cf-4a41-807d-893001095610",
        "colab": {
          "base_uri": "https://localhost:8080/",
          "height": 279
        }
      },
      "source": [
        "data = {'a': np.arange(50),\n",
        "        'c': np.random.randint(0, 50, 50),\n",
        "        'd': np.random.randn(50)}\n",
        "data['b'] = data['a'] + 10 * np.random.randn(50)\n",
        "data['d'] = np.abs(data['d']) * 100\n",
        "\n",
        "plt.scatter('a', 'b', c='c', s='d', data=data)\n",
        "plt.xlabel('entry a')\n",
        "plt.ylabel('entry b')\n",
        "plt.show()\n"
      ],
      "execution_count": 0,
      "outputs": [
        {
          "output_type": "display_data",
          "data": {
            "image/png": "[encoded data removed]",
            "text/plain": [
              "<Figure size 432x288 with 1 Axes>"
            ]
          },
          "metadata": {
            "tags": []
          }
        }
      ]
    },
    {
      "cell_type": "markdown",
      "metadata": {
        "id": "g9JQjreHR_3-",
        "colab_type": "text"
      },
      "source": [
        "## Assignment"
      ]
    },
    {
      "cell_type": "code",
      "metadata": {
        "id": "poGBAzLxSDXP",
        "colab_type": "code",
        "outputId": "8c4d30db-4470-438b-c5e0-68a0befab9d9",
        "colab": {
          "base_uri": "https://localhost:8080/",
          "height": 369
        }
      },
      "source": [
        "NetDist=0\n",
        "XRoute=[]\n",
        "YRoute=[]\n",
        "prevX=0\n",
        "prevY=0\n",
        "XRoute.append(0)\n",
        "YRoute.append(0)\n",
        "while True:\n",
        "  s=input(\"Enter direction & distance:\").split(' ')\n",
        "  val=s[0]\n",
        "\n",
        "  if not val:\n",
        "    break\n",
        "  dist=s[1]\n",
        "  dist=int(dist)\n",
        "  \n",
        "  if(val==\"UP\" or val==\"up\"):\n",
        "    prevY+=dist\n",
        "  elif(val==\"DOWN\" or val==\"down\"):\n",
        "    prevY-=dist\n",
        "  elif(val==\"LEFT\" or val==\"left\"):\n",
        "    prevX-=dist\n",
        "  elif(val==\"RIGHT\" or val==\"right\"):\n",
        "    prevX+=dist\n",
        "  else:\n",
        "    print(\"Please enter invalid inputs\")\n",
        "  XRoute.append(prevX)\n",
        "  YRoute.append(prevY)\n",
        "print(\"The shortest distance is :\",(np.sqrt((prevX**2)+(prevY**2))))\n",
        "plt.plot(XRoute,YRoute,'b--s')\n",
        "plt.show()\n"
      ],
      "execution_count": 0,
      "outputs": [
        {
          "output_type": "stream",
          "text": [
            "Enter direction & distance:UP 500\n",
            "Enter direction & distance:RIGHT 100\n",
            "Enter direction & distance:DOWN 200\n",
            "Enter direction & distance:LEFT 300\n",
            "Enter direction & distance:\n",
            "The shortest distance is : 360.5551275463989\n"
          ],
          "name": "stdout"
        },
        {
          "output_type": "display_data",
          "data": {
            "image/png": "[encoded data removed]",
            "text/plain": [
              "<Figure size 432x288 with 1 Axes>"
            ]
          },
          "metadata": {
            "tags": []
          }
        }
      ]
    },
    {
      "cell_type": "markdown",
      "metadata": {
        "id": "5iEUqbWCaGZj",
        "colab_type": "text"
      },
      "source": [
        "## Python Classes and Objects\n"
      ]
    },
    {
      "cell_type": "markdown",
      "metadata": {
        "id": "FpAo0M7J5Qx7",
        "colab_type": "text"
      },
      "source": [
        "### The self\n",
        "\n",
        "    Class methods must have an extra first parameter in method definition. We do not give a value for this parameter when we call the method, Python provides it.\n",
        "    If we have a method which takes no arguments, then we still have to have one argument.\n",
        "    This is similar to this pointer in C++ and this reference in Java.\n"
      ]
    },
    {
      "cell_type": "code",
      "metadata": {
        "id": "w2_o2afXs9aR",
        "colab_type": "code",
        "colab": {
          "base_uri": "https://localhost:8080/",
          "height": 86
        },
        "outputId": "d8e60238-b632-4e75-b85d-e238e103bbec"
      },
      "source": [
        "\n",
        "# Python program to \n",
        "# demonstrate instantiating \n",
        "# a class \n",
        "\n",
        "class Dog:  \n",
        "      \n",
        "    # A simple class \n",
        "    # attribute \n",
        "    attr1 = \"mamal\"\n",
        "    attr2 = \"dog\"\n",
        "  \n",
        "    # A sample method   \n",
        "    def fun(self):  \n",
        "        print(\"I'm a\", self.attr1) \n",
        "        print(\"I'm a\", self.attr2) \n",
        "\n",
        "# Driver code \n",
        "# Object instantiation \n",
        "Rodger = Dog() \n",
        "  \n",
        "# Accessing class attributes \n",
        "# and method through objects \n",
        "print(Rodger.attr1) \n",
        "print(Rodger.attr2) \n",
        "Rodger.fun() \n"
      ],
      "execution_count": 92,
      "outputs": [
        {
          "output_type": "stream",
          "text": [
            "mamal\n",
            "dog\n",
            "I'm a mamal\n",
            "I'm a dog\n"
          ],
          "name": "stdout"
        }
      ]
    },
    {
      "cell_type": "markdown",
      "metadata": {
        "id": "iZUxtfD_46_q",
        "colab_type": "text"
      },
      "source": [
        "###  \"__init__ method\""
      ]
    },
    {
      "cell_type": "code",
      "metadata": {
        "id": "5x_IJ6j01IhB",
        "colab_type": "code",
        "colab": {
          "base_uri": "https://localhost:8080/",
          "height": 34
        },
        "outputId": "4e8ca8a5-cd17-4b25-9e39-6f971a09557b"
      },
      "source": [
        "# A Sample class with init method \n",
        "class Person: \n",
        "\t\n",
        "\t# init method or constructor \n",
        "\tdef __init__(self, name): \n",
        "\t\tself.name = name \n",
        "\t\n",
        "\t# Sample Method \n",
        "\tdef say_hi(self): \n",
        "\t\tprint('Hello, my name is', self.name) \n",
        "\t\n",
        "p = Person('Vinay') \n",
        "p.say_hi() \n"
      ],
      "execution_count": 93,
      "outputs": [
        {
          "output_type": "stream",
          "text": [
            "Hello, my name is Vinay\n"
          ],
          "name": "stdout"
        }
      ]
    },
    {
      "cell_type": "markdown",
      "metadata": {
        "id": "ihlY9LTt44R4",
        "colab_type": "text"
      },
      "source": [
        "### Class and Instance Variables"
      ]
    },
    {
      "cell_type": "code",
      "metadata": {
        "id": "kP7Lsjaa3asU",
        "colab_type": "code",
        "colab": {
          "base_uri": "https://localhost:8080/",
          "height": 225
        },
        "outputId": "7b86986b-ab10-42d7-b6f4-fa6f02dd997e"
      },
      "source": [
        "# Python program to show that the variables with a value \n",
        "# assigned in class declaration, are class variables and \n",
        "# variables inside methods and constructors are instance \n",
        "# variables. \n",
        "\t\n",
        "# Class for Computer Science Student \n",
        "class Dog: \n",
        "\t\n",
        "\t# Class Variable \n",
        "\tanimal = 'dog'\t\t\t\n",
        "\t\n",
        "\t# The init method or constructor \n",
        "\tdef __init__(self, breed, color): \n",
        "\t\n",
        "\t\t# Instance Variable\t \n",
        "\t\tself.breed = breed \n",
        "\t\tself.color = color\t\t \n",
        "\t\n",
        "# Objects of CSStudent class \n",
        "Rodger = Dog(\"Pug\", \"brown\") \n",
        "Buzo = Dog(\"Bulldog\", \"black\") \n",
        "\n",
        "print('Rodger details:') \n",
        "print('Rodger is a', Rodger.animal) \n",
        "print('Breed: ', Rodger.breed) \n",
        "print('Color: ', Rodger.color) \n",
        "\n",
        "print('\\nBuzo details:') \n",
        "print('Buzo is a', Rodger.animal) \n",
        "print('Breed: ', Buzo.breed) \n",
        "print('Color: ', Buzo.color) \n",
        "\n",
        "# Class variables can be accessed using class \n",
        "# name also \n",
        "print(\"\\nAccessing class variable using class name\") \n",
        "print(Dog.animal)\t\t \n"
      ],
      "execution_count": 94,
      "outputs": [
        {
          "output_type": "stream",
          "text": [
            "Rodger details:\n",
            "Rodger is a dog\n",
            "Breed:  Pug\n",
            "Color:  brown\n",
            "\n",
            "Buzo details:\n",
            "Buzo is a dog\n",
            "Breed:  Bulldog\n",
            "Color:  black\n",
            "\n",
            "Accessing class variable using class name\n",
            "dog\n"
          ],
          "name": "stdout"
        }
      ]
    },
    {
      "cell_type": "markdown",
      "metadata": {
        "id": "6Z30I73e4xtr",
        "colab_type": "text"
      },
      "source": [
        "### Defining instance variable using normal method."
      ]
    },
    {
      "cell_type": "code",
      "metadata": {
        "id": "j9svc2JL4VRV",
        "colab_type": "code",
        "colab": {
          "base_uri": "https://localhost:8080/",
          "height": 34
        },
        "outputId": "2f3ec8c9-ada8-4c31-f928-8e762c00e9f4"
      },
      "source": [
        "# Python program to show that we can create \n",
        "# instance variables inside methods \n",
        "\t\n",
        "# Class for Computer Science Student \n",
        "class Dog: \n",
        "\t\t\n",
        "\t# Class Variable \n",
        "\tanimal = 'dog'\t\n",
        "\t\t\n",
        "\t# The init method or constructor \n",
        "\tdef __init__(self, breed): \n",
        "\t\t\t\n",
        "\t\t# Instance Variable \n",
        "\t\tself.breed = breed\t\t\t \n",
        "\t\n",
        "\t# Adds an instance variable \n",
        "\tdef setColor(self, color): \n",
        "\t\tself.color = color \n",
        "\t\t\n",
        "\t# Retrieves instance variable\t \n",
        "\tdef getColor(self):\t \n",
        "\t\treturn self.color\t \n",
        "\t\n",
        "# Driver Code \n",
        "Rodger = Dog(\"pug\") \n",
        "Rodger.setColor(\"brown\") \n",
        "print(Rodger.getColor()) \n"
      ],
      "execution_count": 95,
      "outputs": [
        {
          "output_type": "stream",
          "text": [
            "brown\n"
          ],
          "name": "stdout"
        }
      ]
    },
    {
      "cell_type": "code",
      "metadata": {
        "id": "vPX8kxUa4thM",
        "colab_type": "code",
        "colab": {
          "base_uri": "https://localhost:8080/",
          "height": 52
        },
        "outputId": "39af9ebe-fd76-492e-9e71-484ad3f29089"
      },
      "source": [
        "class IOString():\n",
        "  def __init__(self):\n",
        "    pass\n",
        "   #self.name=name\n",
        "\n",
        "\n",
        "  def getString(self):\n",
        "    self.name=input(\"Enter the string:\")\n",
        "    #self.name=name\n",
        "  def printString(self):\n",
        "    print(\"The upper case converted String is :\",self.name.upper())\n",
        "\n",
        "test=IOString()\n",
        "test.getString()\n",
        "test.printString()"
      ],
      "execution_count": 106,
      "outputs": [
        {
          "output_type": "stream",
          "text": [
            "Enter the string:vinay\n",
            "The upper case converted String is : VINAY\n"
          ],
          "name": "stdout"
        }
      ]
    },
    {
      "cell_type": "code",
      "metadata": {
        "id": "oQYFtzly8CtF",
        "colab_type": "code",
        "colab": {
          "base_uri": "https://localhost:8080/",
          "height": 86
        },
        "outputId": "dbaeb283-91e9-4184-ef68-91645276a48d"
      },
      "source": [
        "class IOString():\n",
        "  def __init__(self,para1,para2):\n",
        "    self.para1=para1\n",
        "    self.para2=para2\n",
        "   #self.name=name\n",
        "\n",
        "\n",
        "  def getString(self):\n",
        "    self.name=input(\"Enter the string:\")\n",
        "    #self.name=name\n",
        "  def printString(self):\n",
        "    print(\"The upper case converted String is :\",self.name.upper())\n",
        "    print(\"The parameter1 is :\",self.para1)\n",
        "    print(\"The parameter2 is :\",self.para2)\n",
        "\n",
        "name1=\"Bharath\"\n",
        "name2=\"Aravind\"\n",
        "\n",
        "test=IOString(name1,name2)\n",
        "test.getString()\n",
        "test.printString()"
      ],
      "execution_count": 108,
      "outputs": [
        {
          "output_type": "stream",
          "text": [
            "Enter the string:vinay\n",
            "The upper case converted String is : VINAY\n",
            "The parameter1 is : Bharath\n",
            "The parameter2 is : Aravind\n"
          ],
          "name": "stdout"
        }
      ]
    },
    {
      "cell_type": "code",
      "metadata": {
        "id": "zFZqq3mu_Fhw",
        "colab_type": "code",
        "colab": {
          "base_uri": "https://localhost:8080/",
          "height": 86
        },
        "outputId": "a60390fa-7d38-4513-a328-d1d61bdf294c"
      },
      "source": [
        "class IOString():\n",
        "  def __init__(self):\n",
        "   #self.name=name\n",
        "   pass\n",
        "\n",
        "\n",
        "  def getString(self):\n",
        "    self.name=input(\"Enter the string:\")\n",
        "    #self.name=name\n",
        "  def printString(self,para1,para2):\n",
        "    self.para1=para1\n",
        "    self.para2=para2\n",
        "    print(\"The upper case converted String is :\",self.name.capitalize())\n",
        "    print(\"The parameter1 is :\",self.para1)\n",
        "    print(\"The parameter2 is :\",self.para2)\n",
        "\n",
        "name1=\"Bharath\"\n",
        "name2=\"Aravind\"\n",
        "\n",
        "test=IOString()\n",
        "test.getString()\n",
        "test.printString(name1,name2)\n"
      ],
      "execution_count": 114,
      "outputs": [
        {
          "output_type": "stream",
          "text": [
            "Enter the string:vinay\n",
            "The upper case converted String is : Vinay\n",
            "The parameter1 is : Bharath\n",
            "The parameter2 is : Aravind\n"
          ],
          "name": "stdout"
        }
      ]
    },
    {
      "cell_type": "markdown",
      "metadata": {
        "id": "XCK-pz66A7Ar",
        "colab_type": "text"
      },
      "source": [
        "## Assignment"
      ]
    },
    {
      "cell_type": "code",
      "metadata": {
        "id": "rQrZh82qLEpm",
        "colab_type": "code",
        "colab": {
          "base_uri": "https://localhost:8080/",
          "height": 106
        },
        "outputId": "a23392f9-24d9-44de-c61d-4a3912977898"
      },
      "source": [
        "valstr=input(\"Enter a sentence or paragraph:\").split()\n",
        "#print(\"The \"valstr)\n",
        "mydict={}\n",
        "count=0\n",
        "for word in valstr:\n",
        "  for word1 in valstr:\n",
        "    if word==word1:\n",
        "      count+=1\n",
        "  mydict[word]=count\n",
        "  count=0\n",
        "print(\"\\nThe counts of words:\\n\",mydict)"
      ],
      "execution_count": 130,
      "outputs": [
        {
          "output_type": "stream",
          "text": [
            "Enter a sentence or paragraph:Lorem Ipsum is simply dummy text of the printing and typesetting industry. Lorem Ipsum has been the industry's standard dummy text ever since the 1500s, when an unknown printer took a galley of type and scrambled it to make a type specimen book. It has survived not only five centuries, but also the leap into electronic typesetting, remaining essentially unchanged. It was popularised in the 1960s with the release of Letraset sheets containing Lorem Ipsum passages, and more recently with desktop publishing software like Aldus PageMaker including versions of Lorem Ipsum.\n",
            "\n",
            "The counts of words:\n",
            " {'Lorem': 4, 'Ipsum': 3, 'is': 1, 'simply': 1, 'dummy': 2, 'text': 2, 'of': 4, 'the': 6, 'printing': 1, 'and': 3, 'typesetting': 1, 'industry.': 1, 'has': 2, 'been': 1, \"industry's\": 1, 'standard': 1, 'ever': 1, 'since': 1, '1500s,': 1, 'when': 1, 'an': 1, 'unknown': 1, 'printer': 1, 'took': 1, 'a': 2, 'galley': 1, 'type': 2, 'scrambled': 1, 'it': 1, 'to': 1, 'make': 1, 'specimen': 1, 'book.': 1, 'It': 2, 'survived': 1, 'not': 1, 'only': 1, 'five': 1, 'centuries,': 1, 'but': 1, 'also': 1, 'leap': 1, 'into': 1, 'electronic': 1, 'typesetting,': 1, 'remaining': 1, 'essentially': 1, 'unchanged.': 1, 'was': 1, 'popularised': 1, 'in': 1, '1960s': 1, 'with': 2, 'release': 1, 'Letraset': 1, 'sheets': 1, 'containing': 1, 'passages,': 1, 'more': 1, 'recently': 1, 'desktop': 1, 'publishing': 1, 'software': 1, 'like': 1, 'Aldus': 1, 'PageMaker': 1, 'including': 1, 'versions': 1, 'Ipsum.': 1}\n"
          ],
          "name": "stdout"
        }
      ]
    },
    {
      "cell_type": "code",
      "metadata": {
        "id": "SPyS2bF7NImZ",
        "colab_type": "code",
        "colab": {
          "base_uri": "https://localhost:8080/",
          "height": 132
        },
        "outputId": "a0115e8e-5c2d-4e19-cf89-a455380e1211"
      },
      "source": [
        ""
      ],
      "execution_count": 134,
      "outputs": [
        {
          "output_type": "error",
          "ename": "IndentationError",
          "evalue": "ignored",
          "traceback": [
            "\u001b[0;36m  File \u001b[0;32m\"<ipython-input-134-0572adbba052>\"\u001b[0;36m, line \u001b[0;32m3\u001b[0m\n\u001b[0;31m    print(item,item+1)\u001b[0m\n\u001b[0m        ^\u001b[0m\n\u001b[0;31mIndentationError\u001b[0m\u001b[0;31m:\u001b[0m expected an indented block\n"
          ]
        }
      ]
    },
    {
      "cell_type": "code",
      "metadata": {
        "id": "sB35dZIAPk6Y",
        "colab_type": "code",
        "colab": {}
      },
      "source": [
        ""
      ],
      "execution_count": 0,
      "outputs": []
    }
  ]
}